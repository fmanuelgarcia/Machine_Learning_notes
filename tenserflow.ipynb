{
 "cells": [
  {
   "cell_type": "code",
   "metadata": {
    "tags": [],
    "cell_id": "00000-1368c967-6e3e-469c-b198-babf7224faed",
    "deepnote_to_be_reexecuted": false,
    "source_hash": "cc0515f2",
    "execution_start": 1627145156770,
    "execution_millis": 7595,
    "deepnote_cell_type": "code"
   },
   "source": "import tensorflow as tf\nfrom tensorflow import keras",
   "execution_count": null,
   "outputs": [
    {
     "name": "stderr",
     "text": "2021-07-24 16:45:56.992937: W tensorflow/stream_executor/platform/default/dso_loader.cc:60] Could not load dynamic library 'libcudart.so.11.0'; dlerror: libcudart.so.11.0: cannot open shared object file: No such file or directory\n2021-07-24 16:45:56.992989: I tensorflow/stream_executor/cuda/cudart_stub.cc:29] Ignore above cudart dlerror if you do not have a GPU set up on your machine.\n",
     "output_type": "stream"
    }
   ]
  },
  {
   "cell_type": "code",
   "metadata": {
    "tags": [],
    "cell_id": "00001-db0b7029-2646-47c8-92e3-9677d197a18a",
    "deepnote_to_be_reexecuted": false,
    "source_hash": "b3587c28",
    "execution_start": 1627145267214,
    "execution_millis": 1031,
    "deepnote_cell_type": "code"
   },
   "source": "fashion_mnist = keras.datasets.fashion_mnist\n(train_images, train_labels), (test_images, test_labels) = fashion_mnist.load_data()",
   "execution_count": null,
   "outputs": [
    {
     "name": "stdout",
     "text": "Downloading data from https://storage.googleapis.com/tensorflow/tf-keras-datasets/train-labels-idx1-ubyte.gz\n32768/29515 [=================================] - 0s 0us/step\nDownloading data from https://storage.googleapis.com/tensorflow/tf-keras-datasets/train-images-idx3-ubyte.gz\n26427392/26421880 [==============================] - 0s 0us/step\nDownloading data from https://storage.googleapis.com/tensorflow/tf-keras-datasets/t10k-labels-idx1-ubyte.gz\n8192/5148 [===============================================] - 0s 0us/step\nDownloading data from https://storage.googleapis.com/tensorflow/tf-keras-datasets/t10k-images-idx3-ubyte.gz\n4423680/4422102 [==============================] - 0s 0us/step\n",
     "output_type": "stream"
    }
   ]
  },
  {
   "cell_type": "code",
   "metadata": {
    "tags": [],
    "cell_id": "00002-634a9a4a-8143-4fa1-b7fd-7a748c50f924",
    "deepnote_to_be_reexecuted": false,
    "source_hash": "db596a29",
    "execution_start": 1627145292983,
    "execution_millis": 102,
    "deepnote_cell_type": "code"
   },
   "source": "model = keras.Sequential([keras.layers.Flatten(input_shape = (28, 28)), keras.layers.Dense(128, activation = tf.nn.relu), keras.layers.Dense(10, activation = tf.nn.softmax)])",
   "execution_count": null,
   "outputs": [
    {
     "name": "stderr",
     "text": "2021-07-24 16:48:13.003430: I tensorflow/compiler/jit/xla_cpu_device.cc:41] Not creating XLA devices, tf_xla_enable_xla_devices not set\n2021-07-24 16:48:13.006798: W tensorflow/stream_executor/platform/default/dso_loader.cc:60] Could not load dynamic library 'libcuda.so.1'; dlerror: libcuda.so.1: cannot open shared object file: No such file or directory\n2021-07-24 16:48:13.006819: W tensorflow/stream_executor/cuda/cuda_driver.cc:326] failed call to cuInit: UNKNOWN ERROR (303)\n2021-07-24 16:48:13.006850: I tensorflow/stream_executor/cuda/cuda_diagnostics.cc:156] kernel driver does not appear to be running on this host (p-40931ed2-7739-4adb-9eb8-1b9a5da6dfc3): /proc/driver/nvidia/version does not exist\n2021-07-24 16:48:13.007139: I tensorflow/core/platform/cpu_feature_guard.cc:142] This TensorFlow binary is optimized with oneAPI Deep Neural Network Library (oneDNN) to use the following CPU instructions in performance-critical operations:  AVX2 FMA\nTo enable them in other operations, rebuild TensorFlow with the appropriate compiler flags.\n2021-07-24 16:48:13.007424: I tensorflow/compiler/jit/xla_gpu_device.cc:99] Not creating XLA devices, tf_xla_enable_xla_devices not set\n",
     "output_type": "stream"
    }
   ]
  },
  {
   "cell_type": "code",
   "metadata": {
    "tags": [],
    "cell_id": "00003-1900c78c-0e14-44df-aee5-fd0006d7ecdf",
    "deepnote_to_be_reexecuted": false,
    "source_hash": "dd64b40a",
    "execution_start": 1627145320231,
    "execution_millis": 3,
    "deepnote_cell_type": "code"
   },
   "source": "model.compile(optimizer = tf.optimizers.Adam(),loss = 'sparse_categorical_crossentropy', metrics = ['accuracy'])",
   "execution_count": null,
   "outputs": []
  },
  {
   "cell_type": "code",
   "metadata": {
    "tags": [],
    "cell_id": "00004-72b11027-b896-465d-a0e5-02b0be4c2cf7",
    "deepnote_to_be_reexecuted": false,
    "source_hash": "8f7b0125",
    "execution_start": 1627145336613,
    "execution_millis": 25842,
    "deepnote_cell_type": "code"
   },
   "source": "model.fit(train_images, train_labels, epochs = 5)",
   "execution_count": null,
   "outputs": [
    {
     "name": "stderr",
     "text": "2021-07-24 16:48:56.666659: I tensorflow/compiler/mlir/mlir_graph_optimization_pass.cc:116] None of the MLIR optimization passes are enabled (registered 2)\n2021-07-24 16:48:56.695703: I tensorflow/core/platform/profile_utils/cpu_utils.cc:112] CPU Frequency: 2199980000 Hz\nEpoch 1/5\n1875/1875 [==============================] - 6s 3ms/step - loss: 9.7684 - accuracy: 0.6743\nEpoch 2/5\n1875/1875 [==============================] - 5s 3ms/step - loss: 0.6955 - accuracy: 0.7537\nEpoch 3/5\n1875/1875 [==============================] - 5s 3ms/step - loss: 0.6083 - accuracy: 0.7771\nEpoch 4/5\n1875/1875 [==============================] - 5s 3ms/step - loss: 0.5433 - accuracy: 0.8104\nEpoch 5/5\n1875/1875 [==============================] - 5s 3ms/step - loss: 0.5076 - accuracy: 0.8260\n",
     "output_type": "stream"
    },
    {
     "output_type": "execute_result",
     "execution_count": 5,
     "data": {
      "text/plain": "<tensorflow.python.keras.callbacks.History at 0x7fc7507419d0>"
     },
     "metadata": {}
    }
   ]
  },
  {
   "cell_type": "code",
   "metadata": {
    "tags": [],
    "cell_id": "00005-6ae7d51f-d8ea-4b6d-9b0c-61e42752ccfd",
    "deepnote_to_be_reexecuted": false,
    "source_hash": "2df10aeb",
    "execution_start": 1627145377597,
    "execution_millis": 706,
    "deepnote_cell_type": "code"
   },
   "source": "test_loss, test_acc = model.evaluate( test_images, test_labels )",
   "execution_count": null,
   "outputs": [
    {
     "name": "stdout",
     "text": "313/313 [==============================] - 1s 2ms/step - loss: 0.5463 - accuracy: 0.8172\n",
     "output_type": "stream"
    }
   ]
  },
  {
   "cell_type": "code",
   "metadata": {
    "tags": [],
    "cell_id": "00006-c81ee8a1-8fc4-4f54-8968-afb0c3979fdc",
    "deepnote_to_be_reexecuted": false,
    "source_hash": "69133b1b",
    "execution_start": 1627145393831,
    "execution_millis": 462,
    "deepnote_cell_type": "code"
   },
   "source": "model.predict(test_images)",
   "execution_count": null,
   "outputs": [
    {
     "output_type": "execute_result",
     "execution_count": 7,
     "data": {
      "text/plain": "array([[1.8784104e-14, 9.4622559e-09, 9.9386712e-19, ..., 1.8665691e-01,\n        3.3341246e-06, 5.0316882e-01],\n       [4.1226896e-05, 1.0534004e-04, 7.9289186e-01, ..., 0.0000000e+00,\n        2.5881414e-07, 5.9267367e-32],\n       [7.4095738e-12, 1.0000000e+00, 6.7191177e-15, ..., 0.0000000e+00,\n        1.4868104e-15, 0.0000000e+00],\n       ...,\n       [1.3056046e-01, 4.0300557e-07, 2.0031432e-04, ..., 6.6229519e-19,\n        8.1872255e-01, 2.7234504e-12],\n       [3.6293668e-10, 9.9999130e-01, 2.0498482e-13, ..., 0.0000000e+00,\n        1.7185420e-11, 2.5115928e-36],\n       [1.6852902e-19, 5.9267112e-16, 1.1062095e-13, ..., 4.3593557e-03,\n        3.1550403e-08, 2.0257222e-04]], dtype=float32)"
     },
     "metadata": {}
    }
   ]
  },
  {
   "cell_type": "code",
   "metadata": {
    "tags": [],
    "cell_id": "00007-4eb877a3-bb70-4b05-8374-dbebf490213b",
    "deepnote_cell_type": "code"
   },
   "source": "",
   "execution_count": null,
   "outputs": []
  },
  {
   "cell_type": "markdown",
   "source": "<a style='text-decoration:none;line-height:16px;display:flex;color:#5B5B62;padding:10px;justify-content:end;' href='https://deepnote.com?utm_source=created-in-deepnote-cell&projectId=40931ed2-7739-4adb-9eb8-1b9a5da6dfc3' target=\"_blank\">\n<img alt='Created in deepnote.com' style='display:inline;max-height:16px;margin:0px;margin-right:7.5px;' src='data:image/svg+xml;base64,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' > </img>\nCreated in <span style='font-weight:600;margin-left:4px;'>Deepnote</span></a>",
   "metadata": {
    "tags": [],
    "created_in_deepnote_cell": true,
    "deepnote_cell_type": "markdown"
   }
  }
 ],
 "nbformat": 4,
 "nbformat_minor": 2,
 "metadata": {
  "orig_nbformat": 2,
  "deepnote": {
   "is_reactive": false
  },
  "deepnote_notebook_id": "72f46b34-69f2-4cd4-9113-18e486d9b8a1",
  "deepnote_execution_queue": []
 }
}