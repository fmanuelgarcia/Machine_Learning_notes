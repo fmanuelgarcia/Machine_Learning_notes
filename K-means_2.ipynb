{
 "cells": [
  {
   "cell_type": "code",
   "metadata": {
    "tags": [],
    "cell_id": "00000-926e302b-387d-4472-86b9-1b8e5e611a34",
    "deepnote_to_be_reexecuted": false,
    "source_hash": "393601fe",
    "execution_start": 1627097510669,
    "execution_millis": 30,
    "deepnote_cell_type": "code"
   },
   "source": "from sklearn.cluster import KMeans\nfrom sklearn import datasets\nimport pandas as pd\nimport numpy as np\nimport matplotlib.pyplot as plt\nfrom sklearn.preprocessing import StandardScaler\nfrom sklearn import metrics\n",
   "execution_count": null,
   "outputs": []
  },
  {
   "cell_type": "code",
   "metadata": {
    "tags": [],
    "cell_id": "00001-6c0ece8e-6092-4b62-96ed-cf3e234acc10",
    "deepnote_to_be_reexecuted": false,
    "source_hash": "64be9bc9",
    "execution_start": 1627097511651,
    "execution_millis": 21,
    "deepnote_cell_type": "code"
   },
   "source": "wines = datasets.load_wine()\nvariables = np.array(wines.feature_names)\nx_wines = wines.data\ny_wines = wines.target",
   "execution_count": null,
   "outputs": []
  },
  {
   "cell_type": "code",
   "metadata": {
    "tags": [],
    "cell_id": "00002-5db67e4f-68fb-410d-807e-03f057ff5499",
    "deepnote_to_be_reexecuted": false,
    "source_hash": "72df185b",
    "execution_start": 1627097512821,
    "execution_millis": 110,
    "deepnote_cell_type": "code"
   },
   "source": "scaler = StandardScaler()\nscaler.fit(wines.data)\n\nx_scaled = scaler.transform(wines.data)\nx = pd.DataFrame(x_scaled, columns=variables)\ny = pd.DataFrame(y_wines, columns=['Target'])\n\nx.head()",
   "execution_count": null,
   "outputs": [
    {
     "output_type": "execute_result",
     "execution_count": 14,
     "data": {
      "application/vnd.deepnote.dataframe.v2+json": {
       "row_count": 5,
       "column_count": 13,
       "columns": [
        {
         "name": "alcohol",
         "dtype": "float64",
         "stats": {
          "unique_count": 5,
          "nan_count": 0,
          "min": "0.19687902841412896",
          "max": "1.6915496360924271",
          "histogram": [
           {
            "bin_start": 0.19687902841412896,
            "bin_end": 0.34634608918195875,
            "count": 3
           },
           {
            "bin_start": 0.34634608918195875,
            "bin_end": 0.4958131499497886,
            "count": 0
           },
           {
            "bin_start": 0.4958131499497886,
            "bin_end": 0.6452802107176184,
            "count": 0
           },
           {
            "bin_start": 0.6452802107176184,
            "bin_end": 0.7947472714854482,
            "count": 0
           },
           {
            "bin_start": 0.7947472714854482,
            "bin_end": 0.944214332253278,
            "count": 0
           },
           {
            "bin_start": 0.944214332253278,
            "bin_end": 1.0936813930211078,
            "count": 0
           },
           {
            "bin_start": 1.0936813930211078,
            "bin_end": 1.2431484537889377,
            "count": 0
           },
           {
            "bin_start": 1.2431484537889377,
            "bin_end": 1.3926155145567676,
            "count": 0
           },
           {
            "bin_start": 1.3926155145567676,
            "bin_end": 1.5420825753245975,
            "count": 1
           },
           {
            "bin_start": 1.5420825753245975,
            "bin_end": 1.6915496360924271,
            "count": 1
           }
          ]
         }
        },
        {
         "name": "malic_acid",
         "dtype": "float64",
         "stats": {
          "unique_count": 5,
          "nan_count": 0,
          "min": "-0.562249798328623",
          "max": "0.2276937697958325",
          "histogram": [
           {
            "bin_start": -0.562249798328623,
            "bin_end": -0.48325544151617744,
            "count": 2
           },
           {
            "bin_start": -0.48325544151617744,
            "bin_end": -0.4042610847037319,
            "count": 0
           },
           {
            "bin_start": -0.4042610847037319,
            "bin_end": -0.3252667278912863,
            "count": 1
           },
           {
            "bin_start": -0.3252667278912863,
            "bin_end": -0.24627237107884076,
            "count": 0
           },
           {
            "bin_start": -0.24627237107884076,
            "bin_end": -0.16727801426639521,
            "count": 0
           },
           {
            "bin_start": -0.16727801426639521,
            "bin_end": -0.08828365745394962,
            "count": 0
           },
           {
            "bin_start": -0.08828365745394962,
            "bin_end": -0.009289300641504128,
            "count": 0
           },
           {
            "bin_start": -0.009289300641504128,
            "bin_end": 0.06970505617094147,
            "count": 1
           },
           {
            "bin_start": 0.06970505617094147,
            "bin_end": 0.14869941298338707,
            "count": 0
           },
           {
            "bin_start": 0.14869941298338707,
            "bin_end": 0.2276937697958325,
            "count": 1
           }
          ]
         }
        },
        {
         "name": "ash",
         "dtype": "float64",
         "stats": {
          "unique_count": 5,
          "nan_count": 0,
          "min": "-0.827996323266203",
          "max": "1.840402541942377",
          "histogram": [
           {
            "bin_start": -0.827996323266203,
            "bin_end": -0.561156436745345,
            "count": 1
           },
           {
            "bin_start": -0.561156436745345,
            "bin_end": -0.294316550224487,
            "count": 0
           },
           {
            "bin_start": -0.294316550224487,
            "bin_end": -0.027476663703629,
            "count": 0
           },
           {
            "bin_start": -0.027476663703629,
            "bin_end": 0.239363222817229,
            "count": 1
           },
           {
            "bin_start": 0.239363222817229,
            "bin_end": 0.5062031093380871,
            "count": 1
           },
           {
            "bin_start": 0.5062031093380871,
            "bin_end": 0.773042995858945,
            "count": 0
           },
           {
            "bin_start": 0.773042995858945,
            "bin_end": 1.039882882379803,
            "count": 0
           },
           {
            "bin_start": 1.039882882379803,
            "bin_end": 1.306722768900661,
            "count": 1
           },
           {
            "bin_start": 1.306722768900661,
            "bin_end": 1.5735626554215192,
            "count": 0
           },
           {
            "bin_start": 1.5735626554215192,
            "bin_end": 1.840402541942377,
            "count": 1
           }
          ]
         }
        },
        {
         "name": "alcalinity_of_ash",
         "dtype": "float64",
         "stats": {
          "unique_count": 5,
          "nan_count": 0,
          "min": "-2.4908471410952195",
          "max": "0.4519457833385771",
          "histogram": [
           {
            "bin_start": -2.4908471410952195,
            "bin_end": -2.19656784865184,
            "count": 1
           },
           {
            "bin_start": -2.19656784865184,
            "bin_end": -1.9022885562084602,
            "count": 0
           },
           {
            "bin_start": -1.9022885562084602,
            "bin_end": -1.6080092637650807,
            "count": 0
           },
           {
            "bin_start": -1.6080092637650807,
            "bin_end": -1.313729971321701,
            "count": 0
           },
           {
            "bin_start": -1.313729971321701,
            "bin_end": -1.0194506788783213,
            "count": 1
           },
           {
            "bin_start": -1.0194506788783213,
            "bin_end": -0.7251713864349418,
            "count": 1
           },
           {
            "bin_start": -0.7251713864349418,
            "bin_end": -0.43089209399156214,
            "count": 0
           },
           {
            "bin_start": -0.43089209399156214,
            "bin_end": -0.13661280154818245,
            "count": 1
           },
           {
            "bin_start": -0.13661280154818245,
            "bin_end": 0.15766649089519724,
            "count": 0
           },
           {
            "bin_start": 0.15766649089519724,
            "bin_end": 0.4519457833385771,
            "count": 1
           }
          ]
         }
        },
        {
         "name": "magnesium",
         "dtype": "float64",
         "stats": {
          "unique_count": 5,
          "nan_count": 0,
          "min": "0.018145020611759512",
          "max": "1.9139052175708111",
          "histogram": [
           {
            "bin_start": 0.018145020611759512,
            "bin_end": 0.20772104030766467,
            "count": 2
           },
           {
            "bin_start": 0.20772104030766467,
            "bin_end": 0.3972970600035698,
            "count": 0
           },
           {
            "bin_start": 0.3972970600035698,
            "bin_end": 0.586873079699475,
            "count": 0
           },
           {
            "bin_start": 0.586873079699475,
            "bin_end": 0.7764490993953801,
            "count": 0
           },
           {
            "bin_start": 0.7764490993953801,
            "bin_end": 0.9660251190912852,
            "count": 1
           },
           {
            "bin_start": 0.9660251190912852,
            "bin_end": 1.1556011387871905,
            "count": 0
           },
           {
            "bin_start": 1.1556011387871905,
            "bin_end": 1.3451771584830956,
            "count": 1
           },
           {
            "bin_start": 1.3451771584830956,
            "bin_end": 1.5347531781790007,
            "count": 0
           },
           {
            "bin_start": 1.5347531781790007,
            "bin_end": 1.7243291978749058,
            "count": 0
           },
           {
            "bin_start": 1.7243291978749058,
            "bin_end": 1.9139052175708111,
            "count": 1
           }
          ]
         }
        },
        {
         "name": "total_phenols",
         "dtype": "float64",
         "stats": {
          "unique_count": 3,
          "nan_count": 0,
          "min": "0.5686476623890727",
          "max": "2.4914455203328116",
          "histogram": [
           {
            "bin_start": 0.5686476623890727,
            "bin_end": 0.7609274481834466,
            "count": 1
           },
           {
            "bin_start": 0.7609274481834466,
            "bin_end": 0.9532072339778205,
            "count": 3
           },
           {
            "bin_start": 0.9532072339778205,
            "bin_end": 1.1454870197721942,
            "count": 0
           },
           {
            "bin_start": 1.1454870197721942,
            "bin_end": 1.3377668055665684,
            "count": 0
           },
           {
            "bin_start": 1.3377668055665684,
            "bin_end": 1.530046591360942,
            "count": 0
           },
           {
            "bin_start": 1.530046591360942,
            "bin_end": 1.7223263771553161,
            "count": 0
           },
           {
            "bin_start": 1.7223263771553161,
            "bin_end": 1.9146061629496898,
            "count": 0
           },
           {
            "bin_start": 1.9146061629496898,
            "bin_end": 2.106885948744064,
            "count": 0
           },
           {
            "bin_start": 2.106885948744064,
            "bin_end": 2.2991657345384375,
            "count": 0
           },
           {
            "bin_start": 2.2991657345384375,
            "bin_end": 2.4914455203328116,
            "count": 1
           }
          ]
         }
        },
        {
         "name": "flavanoids",
         "dtype": "float64",
         "stats": {
          "unique_count": 5,
          "nan_count": 0,
          "min": "0.6633512708658426",
          "max": "1.4665246487358865",
          "histogram": [
           {
            "bin_start": 0.6633512708658426,
            "bin_end": 0.743668608652847,
            "count": 2
           },
           {
            "bin_start": 0.743668608652847,
            "bin_end": 0.8239859464398513,
            "count": 0
           },
           {
            "bin_start": 0.8239859464398513,
            "bin_end": 0.9043032842268557,
            "count": 0
           },
           {
            "bin_start": 0.9043032842268557,
            "bin_end": 0.9846206220138601,
            "count": 0
           },
           {
            "bin_start": 0.9846206220138601,
            "bin_end": 1.0649379598008646,
            "count": 1
           },
           {
            "bin_start": 1.0649379598008646,
            "bin_end": 1.145255297587869,
            "count": 0
           },
           {
            "bin_start": 1.145255297587869,
            "bin_end": 1.2255726353748733,
            "count": 1
           },
           {
            "bin_start": 1.2255726353748733,
            "bin_end": 1.3058899731618778,
            "count": 0
           },
           {
            "bin_start": 1.3058899731618778,
            "bin_end": 1.386207310948882,
            "count": 0
           },
           {
            "bin_start": 1.386207310948882,
            "bin_end": 1.4665246487358865,
            "count": 1
           }
          ]
         }
        },
        {
         "name": "nonflavanoid_phenols",
         "dtype": "float64",
         "stats": {
          "unique_count": 5,
          "nan_count": 0,
          "min": "-0.9818753568481032",
          "max": "0.2267955526882888",
          "histogram": [
           {
            "bin_start": -0.9818753568481032,
            "bin_end": -0.861008265894464,
            "count": 1
           },
           {
            "bin_start": -0.861008265894464,
            "bin_end": -0.7401411749408249,
            "count": 1
           },
           {
            "bin_start": -0.7401411749408249,
            "bin_end": -0.6192740839871856,
            "count": 1
           },
           {
            "bin_start": -0.6192740839871856,
            "bin_end": -0.4984069930335464,
            "count": 1
           },
           {
            "bin_start": -0.4984069930335464,
            "bin_end": -0.3775399020799072,
            "count": 0
           },
           {
            "bin_start": -0.3775399020799072,
            "bin_end": -0.25667281112626805,
            "count": 0
           },
           {
            "bin_start": -0.25667281112626805,
            "bin_end": -0.13580572017262882,
            "count": 0
           },
           {
            "bin_start": -0.13580572017262882,
            "bin_end": -0.014938629218989585,
            "count": 0
           },
           {
            "bin_start": -0.014938629218989585,
            "bin_end": 0.10592846173464954,
            "count": 0
           },
           {
            "bin_start": 0.10592846173464954,
            "bin_end": 0.2267955526882888,
            "count": 1
           }
          ]
         }
        },
        {
         "name": "proanthocyanins",
         "dtype": "float64",
         "stats": {
          "unique_count": 5,
          "nan_count": 0,
          "min": "-0.5447209874470079",
          "max": "2.135967731767262",
          "histogram": [
           {
            "bin_start": -0.5447209874470079,
            "bin_end": -0.27665211552558094,
            "count": 1
           },
           {
            "bin_start": -0.27665211552558094,
            "bin_end": -0.008583243604153967,
            "count": 0
           },
           {
            "bin_start": -0.008583243604153967,
            "bin_end": 0.25948562831727295,
            "count": 0
           },
           {
            "bin_start": 0.25948562831727295,
            "bin_end": 0.5275545002387,
            "count": 1
           },
           {
            "bin_start": 0.5275545002387,
            "bin_end": 0.795623372160127,
            "count": 0
           },
           {
            "bin_start": 0.795623372160127,
            "bin_end": 1.0636922440815537,
            "count": 1
           },
           {
            "bin_start": 1.0636922440815537,
            "bin_end": 1.3317611160029807,
            "count": 1
           },
           {
            "bin_start": 1.3317611160029807,
            "bin_end": 1.5998299879244078,
            "count": 0
           },
           {
            "bin_start": 1.5998299879244078,
            "bin_end": 1.8678988598458348,
            "count": 0
           },
           {
            "bin_start": 1.8678988598458348,
            "bin_end": 2.135967731767262,
            "count": 1
           }
          ]
         }
        },
        {
         "name": "color_intensity",
         "dtype": "float64",
         "stats": {
          "unique_count": 5,
          "nan_count": 0,
          "min": "-0.3192755276907573",
          "max": "1.1860680130163983",
          "histogram": [
           {
            "bin_start": -0.3192755276907573,
            "bin_end": -0.16874117362004173,
            "count": 2
           },
           {
            "bin_start": -0.16874117362004173,
            "bin_end": -0.01820681954932618,
            "count": 0
           },
           {
            "bin_start": -0.01820681954932618,
            "bin_end": 0.13232753452138935,
            "count": 0
           },
           {
            "bin_start": 0.13232753452138935,
            "bin_end": 0.2828618885921049,
            "count": 2
           },
           {
            "bin_start": 0.2828618885921049,
            "bin_end": 0.4333962426628205,
            "count": 0
           },
           {
            "bin_start": 0.4333962426628205,
            "bin_end": 0.583930596733536,
            "count": 0
           },
           {
            "bin_start": 0.583930596733536,
            "bin_end": 0.7344649508042516,
            "count": 0
           },
           {
            "bin_start": 0.7344649508042516,
            "bin_end": 0.8849993048749671,
            "count": 0
           },
           {
            "bin_start": 0.8849993048749671,
            "bin_end": 1.0355336589456827,
            "count": 0
           },
           {
            "bin_start": 1.0355336589456827,
            "bin_end": 1.1860680130163983,
            "count": 1
           }
          ]
         }
        },
        {
         "name": "hue",
         "dtype": "float64",
         "stats": {
          "unique_count": 4,
          "nan_count": 0,
          "min": "-0.42754369304857526",
          "max": "0.40605066293567893",
          "histogram": [
           {
            "bin_start": -0.42754369304857526,
            "bin_end": -0.3441842574501498,
            "count": 1
           },
           {
            "bin_start": -0.3441842574501498,
            "bin_end": -0.2608248218517244,
            "count": 0
           },
           {
            "bin_start": -0.2608248218517244,
            "bin_end": -0.17746538625329894,
            "count": 0
           },
           {
            "bin_start": -0.17746538625329894,
            "bin_end": -0.09410595065487354,
            "count": 0
           },
           {
            "bin_start": -0.09410595065487354,
            "bin_end": -0.010746515056448136,
            "count": 0
           },
           {
            "bin_start": -0.010746515056448136,
            "bin_end": 0.07261292054197738,
            "count": 0
           },
           {
            "bin_start": 0.07261292054197738,
            "bin_end": 0.15597235614040278,
            "count": 0
           },
           {
            "bin_start": 0.15597235614040278,
            "bin_end": 0.23933179173882818,
            "count": 0
           },
           {
            "bin_start": 0.23933179173882818,
            "bin_end": 0.3226912273372536,
            "count": 1
           },
           {
            "bin_start": 0.3226912273372536,
            "bin_end": 0.40605066293567893,
            "count": 3
           }
          ]
         }
        },
        {
         "name": "od280/od315_of_diluted_wines",
         "dtype": "float64",
         "stats": {
          "unique_count": 5,
          "nan_count": 0,
          "min": "0.4496011793123816",
          "max": "1.8479195665066535",
          "histogram": [
           {
            "bin_start": 0.4496011793123816,
            "bin_end": 0.5894330180318088,
            "count": 1
           },
           {
            "bin_start": 0.5894330180318088,
            "bin_end": 0.729264856751236,
            "count": 0
           },
           {
            "bin_start": 0.729264856751236,
            "bin_end": 0.8690966954706631,
            "count": 1
           },
           {
            "bin_start": 0.8690966954706631,
            "bin_end": 1.0089285341900904,
            "count": 0
           },
           {
            "bin_start": 1.0089285341900904,
            "bin_end": 1.1487603729095175,
            "count": 1
           },
           {
            "bin_start": 1.1487603729095175,
            "bin_end": 1.2885922116289448,
            "count": 1
           },
           {
            "bin_start": 1.2885922116289448,
            "bin_end": 1.428424050348372,
            "count": 0
           },
           {
            "bin_start": 1.428424050348372,
            "bin_end": 1.5682558890677991,
            "count": 0
           },
           {
            "bin_start": 1.5682558890677991,
            "bin_end": 1.7080877277872264,
            "count": 0
           },
           {
            "bin_start": 1.7080877277872264,
            "bin_end": 1.8479195665066535,
            "count": 1
           }
          ]
         }
        },
        {
         "name": "proline",
         "dtype": "float64",
         "stats": {
          "unique_count": 5,
          "nan_count": 0,
          "min": "-0.03787400699229762",
          "max": "2.3345738282691917",
          "histogram": [
           {
            "bin_start": -0.03787400699229762,
            "bin_end": 0.19937077653385132,
            "count": 1
           },
           {
            "bin_start": 0.19937077653385132,
            "bin_end": 0.43661556006000024,
            "count": 0
           },
           {
            "bin_start": 0.43661556006000024,
            "bin_end": 0.6738603435861492,
            "count": 0
           },
           {
            "bin_start": 0.6738603435861492,
            "bin_end": 0.9111051271122982,
            "count": 0
           },
           {
            "bin_start": 0.9111051271122982,
            "bin_end": 1.1483499106384472,
            "count": 2
           },
           {
            "bin_start": 1.1483499106384472,
            "bin_end": 1.385594694164596,
            "count": 0
           },
           {
            "bin_start": 1.385594694164596,
            "bin_end": 1.622839477690745,
            "count": 1
           },
           {
            "bin_start": 1.622839477690745,
            "bin_end": 1.860084261216894,
            "count": 0
           },
           {
            "bin_start": 1.860084261216894,
            "bin_end": 2.097329044743043,
            "count": 0
           },
           {
            "bin_start": 2.097329044743043,
            "bin_end": 2.3345738282691917,
            "count": 1
           }
          ]
         }
        },
        {
         "name": "_deepnote_index_column",
         "dtype": "int64"
        }
       ],
       "rows_top": [
        {
         "alcohol": 1.5186125409891542,
         "malic_acid": -0.562249798328623,
         "ash": 0.23205254099473993,
         "alcalinity_of_ash": -1.1695931750229027,
         "magnesium": 1.9139052175708111,
         "total_phenols": 0.8089973946320399,
         "flavanoids": 1.0348189581307379,
         "nonflavanoid_phenols": -0.6595631143050651,
         "proanthocyanins": 1.2248839840604513,
         "color_intensity": 0.2517168498188532,
         "hue": 0.3621772757786129,
         "od280/od315_of_diluted_wines": 1.8479195665066535,
         "proline": 1.013008926747691,
         "_deepnote_index_column": 0
        },
        {
         "alcohol": 0.24628962701506343,
         "malic_acid": -0.4994133781369049,
         "ash": -0.827996323266203,
         "alcalinity_of_ash": -2.4908471410952195,
         "magnesium": 0.018145020611759512,
         "total_phenols": 0.5686476623890727,
         "flavanoids": 0.7336289414294712,
         "nonflavanoid_phenols": -0.8207192355765842,
         "proanthocyanins": -0.5447209874470079,
         "color_intensity": -0.2933213287130479,
         "hue": 0.40605066293567893,
         "od280/od315_of_diluted_wines": 1.1134493025258236,
         "proline": 0.9652415206686006,
         "_deepnote_index_column": 1
        },
        {
         "alcohol": 0.19687902841412896,
         "malic_acid": 0.0212312463087589,
         "ash": 1.1093343596934504,
         "alcalinity_of_ash": -0.2687381981554134,
         "magnesium": 0.08835836123987253,
         "total_phenols": 0.8089973946320399,
         "flavanoids": 1.215532968151498,
         "nonflavanoid_phenols": -0.4984069930335465,
         "proanthocyanins": 2.135967731767262,
         "color_intensity": 0.2690196491373263,
         "hue": 0.31830388862154685,
         "od280/od315_of_diluted_wines": 0.7885874549958412,
         "proline": 1.3951481753804142,
         "_deepnote_index_column": 2
        },
        {
         "alcohol": 1.6915496360924271,
         "malic_acid": -0.3468106433855897,
         "ash": 0.48792640478186344,
         "alcalinity_of_ash": -0.8092511842759068,
         "magnesium": 0.9309184487772288,
         "total_phenols": 2.4914455203328116,
         "flavanoids": 1.4665246487358865,
         "nonflavanoid_phenols": -0.9818753568481032,
         "proanthocyanins": 1.032154729737857,
         "color_intensity": 1.1860680130163983,
         "hue": -0.42754369304857526,
         "od280/od315_of_diluted_wines": 1.1840714432932113,
         "proline": 2.3345738282691917,
         "_deepnote_index_column": 3
        },
        {
         "alcohol": 0.29570022561600007,
         "malic_acid": 0.2276937697958325,
         "ash": 1.840402541942377,
         "alcalinity_of_ash": 0.4519457833385771,
         "magnesium": 1.2819851519177938,
         "total_phenols": 0.8089973946320399,
         "flavanoids": 0.6633512708658426,
         "nonflavanoid_phenols": 0.2267955526882888,
         "proanthocyanins": 0.4014044428639109,
         "color_intensity": -0.3192755276907573,
         "hue": 0.3621772757786129,
         "od280/od315_of_diluted_wines": 0.4496011793123816,
         "proline": -0.03787400699229762,
         "_deepnote_index_column": 4
        }
       ],
       "rows_bottom": null
      },
      "text/plain": "    alcohol  malic_acid       ash  alcalinity_of_ash  magnesium  \\\n0  1.518613   -0.562250  0.232053          -1.169593   1.913905   \n1  0.246290   -0.499413 -0.827996          -2.490847   0.018145   \n2  0.196879    0.021231  1.109334          -0.268738   0.088358   \n3  1.691550   -0.346811  0.487926          -0.809251   0.930918   \n4  0.295700    0.227694  1.840403           0.451946   1.281985   \n\n   total_phenols  flavanoids  nonflavanoid_phenols  proanthocyanins  \\\n0       0.808997    1.034819             -0.659563         1.224884   \n1       0.568648    0.733629             -0.820719        -0.544721   \n2       0.808997    1.215533             -0.498407         2.135968   \n3       2.491446    1.466525             -0.981875         1.032155   \n4       0.808997    0.663351              0.226796         0.401404   \n\n   color_intensity       hue  od280/od315_of_diluted_wines   proline  \n0         0.251717  0.362177                      1.847920  1.013009  \n1        -0.293321  0.406051                      1.113449  0.965242  \n2         0.269020  0.318304                      0.788587  1.395148  \n3         1.186068 -0.427544                      1.184071  2.334574  \n4        -0.319276  0.362177                      0.449601 -0.037874  ",
      "text/html": "<div>\n<style scoped>\n    .dataframe tbody tr th:only-of-type {\n        vertical-align: middle;\n    }\n\n    .dataframe tbody tr th {\n        vertical-align: top;\n    }\n\n    .dataframe thead th {\n        text-align: right;\n    }\n</style>\n<table border=\"1\" class=\"dataframe\">\n  <thead>\n    <tr style=\"text-align: right;\">\n      <th></th>\n      <th>alcohol</th>\n      <th>malic_acid</th>\n      <th>ash</th>\n      <th>alcalinity_of_ash</th>\n      <th>magnesium</th>\n      <th>total_phenols</th>\n      <th>flavanoids</th>\n      <th>nonflavanoid_phenols</th>\n      <th>proanthocyanins</th>\n      <th>color_intensity</th>\n      <th>hue</th>\n      <th>od280/od315_of_diluted_wines</th>\n      <th>proline</th>\n    </tr>\n  </thead>\n  <tbody>\n    <tr>\n      <th>0</th>\n      <td>1.518613</td>\n      <td>-0.562250</td>\n      <td>0.232053</td>\n      <td>-1.169593</td>\n      <td>1.913905</td>\n      <td>0.808997</td>\n      <td>1.034819</td>\n      <td>-0.659563</td>\n      <td>1.224884</td>\n      <td>0.251717</td>\n      <td>0.362177</td>\n      <td>1.847920</td>\n      <td>1.013009</td>\n    </tr>\n    <tr>\n      <th>1</th>\n      <td>0.246290</td>\n      <td>-0.499413</td>\n      <td>-0.827996</td>\n      <td>-2.490847</td>\n      <td>0.018145</td>\n      <td>0.568648</td>\n      <td>0.733629</td>\n      <td>-0.820719</td>\n      <td>-0.544721</td>\n      <td>-0.293321</td>\n      <td>0.406051</td>\n      <td>1.113449</td>\n      <td>0.965242</td>\n    </tr>\n    <tr>\n      <th>2</th>\n      <td>0.196879</td>\n      <td>0.021231</td>\n      <td>1.109334</td>\n      <td>-0.268738</td>\n      <td>0.088358</td>\n      <td>0.808997</td>\n      <td>1.215533</td>\n      <td>-0.498407</td>\n      <td>2.135968</td>\n      <td>0.269020</td>\n      <td>0.318304</td>\n      <td>0.788587</td>\n      <td>1.395148</td>\n    </tr>\n    <tr>\n      <th>3</th>\n      <td>1.691550</td>\n      <td>-0.346811</td>\n      <td>0.487926</td>\n      <td>-0.809251</td>\n      <td>0.930918</td>\n      <td>2.491446</td>\n      <td>1.466525</td>\n      <td>-0.981875</td>\n      <td>1.032155</td>\n      <td>1.186068</td>\n      <td>-0.427544</td>\n      <td>1.184071</td>\n      <td>2.334574</td>\n    </tr>\n    <tr>\n      <th>4</th>\n      <td>0.295700</td>\n      <td>0.227694</td>\n      <td>1.840403</td>\n      <td>0.451946</td>\n      <td>1.281985</td>\n      <td>0.808997</td>\n      <td>0.663351</td>\n      <td>0.226796</td>\n      <td>0.401404</td>\n      <td>-0.319276</td>\n      <td>0.362177</td>\n      <td>0.449601</td>\n      <td>-0.037874</td>\n    </tr>\n  </tbody>\n</table>\n</div>"
     },
     "metadata": {}
    }
   ]
  },
  {
   "cell_type": "code",
   "metadata": {
    "tags": [],
    "cell_id": "00003-934f552c-6951-4ed5-8562-782bb3af761e",
    "deepnote_to_be_reexecuted": false,
    "source_hash": "fcc3086d",
    "execution_start": 1627097985061,
    "execution_millis": 1386,
    "deepnote_cell_type": "code"
   },
   "source": "wccs =[]\nn = 1\nacc = 0\nfor i in range(1, 11):\n    codo = KMeans(n_clusters = i, max_iter = 1000, random_state = 0)\n    codo.fit(x)\n    y_kmeans = codo.predict(x)\n    wccs.append(codo.inertia_)\n    accuracy =  round(metrics.adjusted_rand_score(y_wines, y_kmeans), 4)\n    print(f'Cantidad de Centroides: {i} ---  Precision: {accuracy}')\n    if accuracy > acc:\n        acc = accuracy\n        n = i\n\nplt.plot(range(1, 11), wccs, marker='o')\nplt.title('Metodo del Codo')\nplt.xlabel('Numero de centroides')\nplt.ylabel('WCSS')\nplt.show()\nprint(f\"Se recomienda emplear una cantidad de {n} centroides, para asi garantizar una precision de {acc}\")",
   "execution_count": null,
   "outputs": [
    {
     "name": "stdout",
     "text": "Cantidad de Centroides: 1 ---  Precision: 0.0\nCantidad de Centroides: 2 ---  Precision: 0.3887\nCantidad de Centroides: 3 ---  Precision: 0.9149\nCantidad de Centroides: 4 ---  Precision: 0.7492\nCantidad de Centroides: 5 ---  Precision: 0.6372\nCantidad de Centroides: 6 ---  Precision: 0.6842\nCantidad de Centroides: 7 ---  Precision: 0.554\nCantidad de Centroides: 8 ---  Precision: 0.3955\nCantidad de Centroides: 9 ---  Precision: 0.427\nCantidad de Centroides: 10 ---  Precision: 0.3752\n",
     "output_type": "stream"
    },
    {
     "data": {
      "text/plain": "<Figure size 432x288 with 1 Axes>",
      "image/png": "[encoded data removed]"
     },
     "metadata": {
      "needs_background": "light",
      "image/png": {
       "width": 395,
       "height": 278
      }
     },
     "output_type": "display_data"
    },
    {
     "name": "stdout",
     "text": "Se recomienda emplear una cantidad de 3 centroides, para asi garantizar una precision de 0.9149\n",
     "output_type": "stream"
    }
   ]
  },
  {
   "cell_type": "code",
   "metadata": {
    "tags": [],
    "cell_id": "00004-11da907a-e933-470f-bba5-184f7f6f6e4d",
    "deepnote_to_be_reexecuted": false,
    "source_hash": "542bc856",
    "execution_start": 1627098044414,
    "execution_millis": 7,
    "deepnote_cell_type": "code"
   },
   "source": "modelo = KMeans(n_clusters = n, max_iter = 1000)\nmodelo.fit(x)\ny_labels = modelo.labels_\ny_kmeans = modelo.predict(x)\nprint('predicciones ', y_kmeans)\ny_kmeans_df = pd.DataFrame(y_kmeans, columns = ['Prediction'])",
   "execution_count": null,
   "outputs": [
    {
     "name": "stdout",
     "text": "predicciones  [1 1 1 1 1 1 1 1 1 1 1 1 1 1 1 1 1 1 1 1 1 1 1 1 1 1 1 1 1 1 1 1 1 1 1 1 1\n 1 1 1 1 1 1 1 1 1 1 1 1 1 1 1 1 1 1 1 1 1 1 2 2 0 2 2 2 2 2 2 2 2 2 2 2 1\n 2 2 2 2 2 2 2 2 2 0 2 2 2 2 2 2 2 2 2 2 2 1 2 2 2 2 2 2 2 2 2 2 2 2 2 2 2\n 2 2 2 2 2 2 2 0 2 2 1 2 2 2 2 2 2 2 2 0 0 0 0 0 0 0 0 0 0 0 0 0 0 0 0 0 0\n 0 0 0 0 0 0 0 0 0 0 0 0 0 0 0 0 0 0 0 0 0 0 0 0 0 0 0 0 0 0]\n",
     "output_type": "stream"
    }
   ]
  },
  {
   "cell_type": "code",
   "metadata": {
    "tags": [],
    "cell_id": "00005-05b04a16-99a5-4bcb-b345-091100a9386a",
    "deepnote_to_be_reexecuted": false,
    "source_hash": "467601ea",
    "execution_start": 1627098064345,
    "execution_millis": 13,
    "deepnote_cell_type": "code"
   },
   "source": "accuracy =  metrics.adjusted_rand_score(y_wines, y_kmeans)\nprint(round(accuracy, 5))",
   "execution_count": null,
   "outputs": [
    {
     "name": "stdout",
     "text": "0.89749\n",
     "output_type": "stream"
    }
   ]
  },
  {
   "cell_type": "code",
   "metadata": {
    "tags": [],
    "cell_id": "00006-b645b0c3-2999-47bb-bb5d-3e76a75d5e3f",
    "deepnote_to_be_reexecuted": false,
    "source_hash": "c7e8523b",
    "execution_start": 1627098318628,
    "execution_millis": 230,
    "deepnote_cell_type": "code"
   },
   "source": "import seaborn as sns\n\nZ = pd.concat([x, y_kmeans_df], axis = 1)\nZ",
   "execution_count": null,
   "outputs": [
    {
     "output_type": "execute_result",
     "execution_count": 28,
     "data": {
      "application/vnd.deepnote.dataframe.v2+json": {
       "row_count": 178,
       "column_count": 14,
       "columns": [
        {
         "name": "alcohol",
         "dtype": "float64",
         "stats": {
          "unique_count": 126,
          "nan_count": 0,
          "min": "-2.434235347085688",
          "max": "2.2597715200031865",
          "histogram": [
           {
            "bin_start": -2.434235347085688,
            "bin_end": -1.9648346603768005,
            "count": 1
           },
           {
            "bin_start": -1.9648346603768005,
            "bin_end": -1.495433973667913,
            "count": 11
           },
           {
            "bin_start": -1.495433973667913,
            "bin_end": -1.0260332869590254,
            "count": 18
           },
           {
            "bin_start": -1.0260332869590254,
            "bin_end": -0.556632600250138,
            "count": 31
           },
           {
            "bin_start": -0.556632600250138,
            "bin_end": -0.0872319135412507,
            "count": 23
           },
           {
            "bin_start": -0.0872319135412507,
            "bin_end": 0.3821687731676371,
            "count": 25
           },
           {
            "bin_start": 0.3821687731676371,
            "bin_end": 0.8515694598765244,
            "count": 26
           },
           {
            "bin_start": 0.8515694598765244,
            "bin_end": 1.3209701465854118,
            "count": 24
           },
           {
            "bin_start": 1.3209701465854118,
            "bin_end": 1.7903708332942991,
            "count": 17
           },
           {
            "bin_start": 1.7903708332942991,
            "bin_end": 2.2597715200031865,
            "count": 2
           }
          ]
         }
        },
        {
         "name": "malic_acid",
         "dtype": "float64",
         "stats": {
          "unique_count": 133,
          "nan_count": 0,
          "min": "-1.4329830495567162",
          "max": "3.1091924671589037",
          "histogram": [
           {
            "bin_start": -1.4329830495567162,
            "bin_end": -0.9787654978851542,
            "count": 18
           },
           {
            "bin_start": -0.9787654978851542,
            "bin_end": -0.5245479462135922,
            "count": 59
           },
           {
            "bin_start": -0.5245479462135922,
            "bin_end": -0.07033039454203038,
            "count": 33
           },
           {
            "bin_start": -0.07033039454203038,
            "bin_end": 0.3838871571295317,
            "count": 16
           },
           {
            "bin_start": 0.3838871571295317,
            "bin_end": 0.8381047088010938,
            "count": 13
           },
           {
            "bin_start": 0.8381047088010938,
            "bin_end": 1.2923222604726554,
            "count": 12
           },
           {
            "bin_start": 1.2923222604726554,
            "bin_end": 1.7465398121442175,
            "count": 14
           },
           {
            "bin_start": 1.7465398121442175,
            "bin_end": 2.2007573638157796,
            "count": 7
           },
           {
            "bin_start": 2.2007573638157796,
            "bin_end": 2.654974915487341,
            "count": 3
           },
           {
            "bin_start": 2.654974915487341,
            "bin_end": 3.1091924671589037,
            "count": 3
           }
          ]
         }
        },
        {
         "name": "ash",
         "dtype": "float64",
         "stats": {
          "unique_count": 79,
          "nan_count": 0,
          "min": "-3.6791622340370145",
          "max": "3.156325269990443",
          "histogram": [
           {
            "bin_start": -3.6791622340370145,
            "bin_end": -2.9956134836342687,
            "count": 1
           },
           {
            "bin_start": -2.9956134836342687,
            "bin_end": -2.312064733231523,
            "count": 3
           },
           {
            "bin_start": -2.312064733231523,
            "bin_end": -1.6285159828287772,
            "count": 7
           },
           {
            "bin_start": -1.6285159828287772,
            "bin_end": -0.9449672324260314,
            "count": 14
           },
           {
            "bin_start": -0.9449672324260314,
            "bin_end": -0.26141848202328566,
            "count": 43
           },
           {
            "bin_start": -0.26141848202328566,
            "bin_end": 0.4221302683794601,
            "count": 54
           },
           {
            "bin_start": 0.4221302683794601,
            "bin_end": 1.1056790187822054,
            "count": 31
           },
           {
            "bin_start": 1.1056790187822054,
            "bin_end": 1.7892277691849516,
            "count": 20
           },
           {
            "bin_start": 1.7892277691849516,
            "bin_end": 2.472776519587698,
            "count": 3
           },
           {
            "bin_start": 2.472776519587698,
            "bin_end": 3.156325269990443,
            "count": 2
           }
          ]
         }
        },
        {
         "name": "alcalinity_of_ash",
         "dtype": "float64",
         "stats": {
          "unique_count": 63,
          "nan_count": 0,
          "min": "-2.671018136468717",
          "max": "3.154510713941043",
          "histogram": [
           {
            "bin_start": -2.671018136468717,
            "bin_end": -2.088465251427741,
            "count": 5
           },
           {
            "bin_start": -2.088465251427741,
            "bin_end": -1.5059123663867648,
            "count": 3
           },
           {
            "bin_start": -1.5059123663867648,
            "bin_end": -0.9233594813457888,
            "count": 24
           },
           {
            "bin_start": -0.9233594813457888,
            "bin_end": -0.3408065963048128,
            "count": 32
           },
           {
            "bin_start": -0.3408065963048128,
            "bin_end": 0.24174628873616344,
            "count": 47
           },
           {
            "bin_start": 0.24174628873616344,
            "bin_end": 0.8242991737771392,
            "count": 34
           },
           {
            "bin_start": 0.8242991737771392,
            "bin_end": 1.406852058818115,
            "count": 18
           },
           {
            "bin_start": 1.406852058818115,
            "bin_end": 1.9894049438590913,
            "count": 10
           },
           {
            "bin_start": 1.9894049438590913,
            "bin_end": 2.5719578289000675,
            "count": 2
           },
           {
            "bin_start": 2.5719578289000675,
            "bin_end": 3.154510713941043,
            "count": 3
           }
          ]
         }
        },
        {
         "name": "magnesium",
         "dtype": "float64",
         "stats": {
          "unique_count": 53,
          "nan_count": 0,
          "min": "-2.0882551982316313",
          "max": "4.371372139554767",
          "histogram": [
           {
            "bin_start": -2.0882551982316313,
            "bin_end": -1.4422924644529915,
            "count": 4
           },
           {
            "bin_start": -1.4422924644529915,
            "bin_end": -0.7963297306743518,
            "count": 43
           },
           {
            "bin_start": -0.7963297306743518,
            "bin_end": -0.15036699689571198,
            "count": 40
           },
           {
            "bin_start": -0.15036699689571198,
            "bin_end": 0.4955957368829278,
            "count": 43
           },
           {
            "bin_start": 0.4955957368829278,
            "bin_end": 1.1415584706615673,
            "count": 24
           },
           {
            "bin_start": 1.1415584706615673,
            "bin_end": 1.7875212044402073,
            "count": 15
           },
           {
            "bin_start": 1.7875212044402073,
            "bin_end": 2.4334839382188473,
            "count": 5
           },
           {
            "bin_start": 2.4334839382188473,
            "bin_end": 3.079446671997487,
            "count": 2
           },
           {
            "bin_start": 3.079446671997487,
            "bin_end": 3.7254094057761264,
            "count": 1
           },
           {
            "bin_start": 3.7254094057761264,
            "bin_end": 4.371372139554767,
            "count": 1
           }
          ]
         }
        },
        {
         "name": "total_phenols",
         "dtype": "float64",
         "stats": {
          "unique_count": 97,
          "nan_count": 0,
          "min": "-2.1072460232492967",
          "max": "2.539515466781405",
          "histogram": [
           {
            "bin_start": -2.1072460232492967,
            "bin_end": -1.6425698742462265,
            "count": 4
           },
           {
            "bin_start": -1.6425698742462265,
            "bin_end": -1.1778937252431563,
            "count": 22
           },
           {
            "bin_start": -1.1778937252431563,
            "bin_end": -0.7132175762400861,
            "count": 26
           },
           {
            "bin_start": -0.7132175762400861,
            "bin_end": -0.2485414272370159,
            "count": 24
           },
           {
            "bin_start": -0.2485414272370159,
            "bin_end": 0.2161347217660543,
            "count": 20
           },
           {
            "bin_start": 0.2161347217660543,
            "bin_end": 0.6808108707691245,
            "count": 30
           },
           {
            "bin_start": 0.6808108707691245,
            "bin_end": 1.1454870197721947,
            "count": 33
           },
           {
            "bin_start": 1.1454870197721947,
            "bin_end": 1.6101631687752649,
            "count": 13
           },
           {
            "bin_start": 1.6101631687752649,
            "bin_end": 2.074839317778335,
            "count": 4
           },
           {
            "bin_start": 2.074839317778335,
            "bin_end": 2.539515466781405,
            "count": 2
           }
          ]
         }
        },
        {
         "name": "flavanoids",
         "dtype": "float64",
         "stats": {
          "unique_count": 132,
          "nan_count": 0,
          "min": "-1.6959705266274108",
          "max": "3.062831737252598",
          "histogram": [
           {
            "bin_start": -1.6959705266274108,
            "bin_end": -1.22009030023941,
            "count": 33
           },
           {
            "bin_start": -1.22009030023941,
            "bin_end": -0.744210073851409,
            "count": 18
           },
           {
            "bin_start": -0.744210073851409,
            "bin_end": -0.26832984746340816,
            "count": 23
           },
           {
            "bin_start": -0.26832984746340816,
            "bin_end": 0.20755037892459272,
            "count": 20
           },
           {
            "bin_start": 0.20755037892459272,
            "bin_end": 0.6834306053125936,
            "count": 32
           },
           {
            "bin_start": 0.6834306053125936,
            "bin_end": 1.1593108317005945,
            "count": 32
           },
           {
            "bin_start": 1.1593108317005945,
            "bin_end": 1.6351910580885953,
            "count": 14
           },
           {
            "bin_start": 1.6351910580885953,
            "bin_end": 2.111071284476596,
            "count": 5
           },
           {
            "bin_start": 2.111071284476596,
            "bin_end": 2.586951510864597,
            "count": 0
           },
           {
            "bin_start": 2.586951510864597,
            "bin_end": 3.062831737252598,
            "count": 1
           }
          ]
         }
        },
        {
         "name": "nonflavanoid_phenols",
         "dtype": "float64",
         "stats": {
          "unique_count": 39,
          "nan_count": 0,
          "min": "-1.8682340238414572",
          "max": "2.402403189853794",
          "histogram": [
           {
            "bin_start": -1.8682340238414572,
            "bin_end": -1.441170302471932,
            "count": 8
           },
           {
            "bin_start": -1.441170302471932,
            "bin_end": -1.014106581102407,
            "count": 16
           },
           {
            "bin_start": -1.014106581102407,
            "bin_end": -0.5870428597328818,
            "count": 33
           },
           {
            "bin_start": -0.5870428597328818,
            "bin_end": -0.15997913836335664,
            "count": 38
           },
           {
            "bin_start": -0.15997913836335664,
            "bin_end": 0.26708458300616855,
            "count": 14
           },
           {
            "bin_start": 0.26708458300616855,
            "bin_end": 0.6941483043756935,
            "count": 25
           },
           {
            "bin_start": 0.6941483043756935,
            "bin_end": 1.121212025745219,
            "count": 16
           },
           {
            "bin_start": 1.121212025745219,
            "bin_end": 1.548275747114744,
            "count": 13
           },
           {
            "bin_start": 1.548275747114744,
            "bin_end": 1.975339468484269,
            "count": 7
           },
           {
            "bin_start": 1.975339468484269,
            "bin_end": 2.402403189853794,
            "count": 8
           }
          ]
         }
        },
        {
         "name": "proanthocyanins",
         "dtype": "float64",
         "stats": {
          "unique_count": 101,
          "nan_count": 0,
          "min": "-2.0690341807257107",
          "max": "3.485072512025424",
          "histogram": [
           {
            "bin_start": -2.0690341807257107,
            "bin_end": -1.5136235114505971,
            "count": 8
           },
           {
            "bin_start": -1.5136235114505971,
            "bin_end": -0.9582128421754836,
            "count": 25
           },
           {
            "bin_start": -0.9582128421754836,
            "bin_end": -0.4028021729003701,
            "count": 31
           },
           {
            "bin_start": -0.4028021729003701,
            "bin_end": 0.15260849637474339,
            "count": 43
           },
           {
            "bin_start": 0.15260849637474339,
            "bin_end": 0.7080191656498571,
            "count": 36
           },
           {
            "bin_start": 0.7080191656498571,
            "bin_end": 1.2634298349249704,
            "count": 17
           },
           {
            "bin_start": 1.2634298349249704,
            "bin_end": 1.8188405042000837,
            "count": 8
           },
           {
            "bin_start": 1.8188405042000837,
            "bin_end": 2.3742511734751974,
            "count": 7
           },
           {
            "bin_start": 2.3742511734751974,
            "bin_end": 2.929661842750311,
            "count": 1
           },
           {
            "bin_start": 2.929661842750311,
            "bin_end": 3.485072512025424,
            "count": 2
           }
          ]
         }
        },
        {
         "name": "color_intensity",
         "dtype": "float64",
         "stats": {
          "unique_count": 132,
          "nan_count": 0,
          "min": "-1.6342882758947095",
          "max": "3.4354319244178955",
          "histogram": [
           {
            "bin_start": -1.6342882758947095,
            "bin_end": -1.127316255863449,
            "count": 16
           },
           {
            "bin_start": -1.127316255863449,
            "bin_end": -0.6203442358321885,
            "count": 42
           },
           {
            "bin_start": -0.6203442358321885,
            "bin_end": -0.11337221580092782,
            "count": 32
           },
           {
            "bin_start": -0.11337221580092782,
            "bin_end": 0.3935998042303326,
            "count": 38
           },
           {
            "bin_start": 0.3935998042303326,
            "bin_end": 0.900571824261593,
            "count": 17
           },
           {
            "bin_start": 0.900571824261593,
            "bin_end": 1.4075438442928538,
            "count": 13
           },
           {
            "bin_start": 1.4075438442928538,
            "bin_end": 1.9145158643241142,
            "count": 10
           },
           {
            "bin_start": 1.9145158643241142,
            "bin_end": 2.4214878843553747,
            "count": 6
           },
           {
            "bin_start": 2.4214878843553747,
            "bin_end": 2.928459904386635,
            "count": 3
           },
           {
            "bin_start": 2.928459904386635,
            "bin_end": 3.4354319244178955,
            "count": 1
           }
          ]
         }
        },
        {
         "name": "hue",
         "dtype": "float64",
         "stats": {
          "unique_count": 78,
          "nan_count": 0,
          "min": "-2.094732405017083",
          "max": "3.3016942153020343",
          "histogram": [
           {
            "bin_start": -2.094732405017083,
            "bin_end": -1.5550897429851713,
            "count": 17
           },
           {
            "bin_start": -1.5550897429851713,
            "bin_end": -1.0154470809532596,
            "count": 16
           },
           {
            "bin_start": -1.0154470809532596,
            "bin_end": -0.47580441892134795,
            "count": 20
           },
           {
            "bin_start": -0.47580441892134795,
            "bin_end": 0.06383824311056374,
            "count": 37
           },
           {
            "bin_start": 0.06383824311056374,
            "bin_end": 0.6034809051424754,
            "count": 38
           },
           {
            "bin_start": 0.6034809051424754,
            "bin_end": 1.1431235671743871,
            "count": 24
           },
           {
            "bin_start": 1.1431235671743871,
            "bin_end": 1.6827662292062988,
            "count": 20
           },
           {
            "bin_start": 1.6827662292062988,
            "bin_end": 2.2224088912382105,
            "count": 5
           },
           {
            "bin_start": 2.2224088912382105,
            "bin_end": 2.762051553270122,
            "count": 0
           },
           {
            "bin_start": 2.762051553270122,
            "bin_end": 3.3016942153020343,
            "count": 1
           }
          ]
         }
        },
        {
         "name": "od280/od315_of_diluted_wines",
         "dtype": "float64",
         "stats": {
          "unique_count": 122,
          "nan_count": 0,
          "min": "-1.895053894164883",
          "max": "1.9609149917344735",
          "histogram": [
           {
            "bin_start": -1.895053894164883,
            "bin_end": -1.5094570055749472,
            "count": 13
           },
           {
            "bin_start": -1.5094570055749472,
            "bin_end": -1.1238601169850115,
            "count": 24
           },
           {
            "bin_start": -1.1238601169850115,
            "bin_end": -0.7382632283950761,
            "count": 14
           },
           {
            "bin_start": -0.7382632283950761,
            "bin_end": -0.3526663398051404,
            "count": 12
           },
           {
            "bin_start": -0.3526663398051404,
            "bin_end": 0.03293054878479529,
            "count": 12
           },
           {
            "bin_start": 0.03293054878479529,
            "bin_end": 0.41852743737473075,
            "count": 32
           },
           {
            "bin_start": 0.41852743737473075,
            "bin_end": 0.8041243259646667,
            "count": 28
           },
           {
            "bin_start": 0.8041243259646667,
            "bin_end": 1.1897212145546021,
            "count": 25
           },
           {
            "bin_start": 1.1897212145546021,
            "bin_end": 1.5753181031445376,
            "count": 15
           },
           {
            "bin_start": 1.5753181031445376,
            "bin_end": 1.9609149917344735,
            "count": 3
           }
          ]
         }
        },
        {
         "name": "proline",
         "dtype": "float64",
         "stats": {
          "unique_count": 121,
          "nan_count": 0,
          "min": "-1.4931876455352515",
          "max": "2.971472575990397",
          "histogram": [
           {
            "bin_start": -1.4931876455352515,
            "bin_end": -1.0467216233826866,
            "count": 22
           },
           {
            "bin_start": -1.0467216233826866,
            "bin_end": -0.6002556012301218,
            "count": 37
           },
           {
            "bin_start": -0.6002556012301218,
            "bin_end": -0.15378957907755697,
            "count": 41
           },
           {
            "bin_start": -0.15378957907755697,
            "bin_end": 0.29267644307500795,
            "count": 19
           },
           {
            "bin_start": 0.29267644307500795,
            "bin_end": 0.7391424652275729,
            "count": 13
           },
           {
            "bin_start": 0.7391424652275729,
            "bin_end": 1.1856084873801376,
            "count": 19
           },
           {
            "bin_start": 1.1856084873801376,
            "bin_end": 1.6320745095327027,
            "count": 8
           },
           {
            "bin_start": 1.6320745095327027,
            "bin_end": 2.0785405316852676,
            "count": 13
           },
           {
            "bin_start": 2.0785405316852676,
            "bin_end": 2.525006553837832,
            "count": 4
           },
           {
            "bin_start": 2.525006553837832,
            "bin_end": 2.971472575990397,
            "count": 2
           }
          ]
         }
        },
        {
         "name": "Prediction",
         "dtype": "int32",
         "stats": {
          "unique_count": 3,
          "nan_count": 0,
          "min": "0",
          "max": "2",
          "histogram": [
           {
            "bin_start": 0,
            "bin_end": 0.2,
            "count": 51
           },
           {
            "bin_start": 0.2,
            "bin_end": 0.4,
            "count": 0
           },
           {
            "bin_start": 0.4,
            "bin_end": 0.6000000000000001,
            "count": 0
           },
           {
            "bin_start": 0.6000000000000001,
            "bin_end": 0.8,
            "count": 0
           },
           {
            "bin_start": 0.8,
            "bin_end": 1,
            "count": 0
           },
           {
            "bin_start": 1,
            "bin_end": 1.2000000000000002,
            "count": 62
           },
           {
            "bin_start": 1.2000000000000002,
            "bin_end": 1.4000000000000001,
            "count": 0
           },
           {
            "bin_start": 1.4000000000000001,
            "bin_end": 1.6,
            "count": 0
           },
           {
            "bin_start": 1.6,
            "bin_end": 1.8,
            "count": 0
           },
           {
            "bin_start": 1.8,
            "bin_end": 2,
            "count": 65
           }
          ]
         }
        },
        {
         "name": "_deepnote_index_column",
         "dtype": "int64"
        }
       ],
       "rows_top": [
        {
         "alcohol": 1.5186125409891542,
         "malic_acid": -0.562249798328623,
         "ash": 0.23205254099473993,
         "alcalinity_of_ash": -1.1695931750229027,
         "magnesium": 1.9139052175708111,
         "total_phenols": 0.8089973946320399,
         "flavanoids": 1.0348189581307379,
         "nonflavanoid_phenols": -0.6595631143050651,
         "proanthocyanins": 1.2248839840604513,
         "color_intensity": 0.2517168498188532,
         "hue": 0.3621772757786129,
         "od280/od315_of_diluted_wines": 1.8479195665066535,
         "proline": 1.013008926747691,
         "Prediction": 1,
         "_deepnote_index_column": 0
        },
        {
         "alcohol": 0.24628962701506343,
         "malic_acid": -0.4994133781369049,
         "ash": -0.827996323266203,
         "alcalinity_of_ash": -2.4908471410952195,
         "magnesium": 0.018145020611759512,
         "total_phenols": 0.5686476623890727,
         "flavanoids": 0.7336289414294712,
         "nonflavanoid_phenols": -0.8207192355765842,
         "proanthocyanins": -0.5447209874470079,
         "color_intensity": -0.2933213287130479,
         "hue": 0.40605066293567893,
         "od280/od315_of_diluted_wines": 1.1134493025258236,
         "proline": 0.9652415206686006,
         "Prediction": 1,
         "_deepnote_index_column": 1
        },
        {
         "alcohol": 0.19687902841412896,
         "malic_acid": 0.0212312463087589,
         "ash": 1.1093343596934504,
         "alcalinity_of_ash": -0.2687381981554134,
         "magnesium": 0.08835836123987253,
         "total_phenols": 0.8089973946320399,
         "flavanoids": 1.215532968151498,
         "nonflavanoid_phenols": -0.4984069930335465,
         "proanthocyanins": 2.135967731767262,
         "color_intensity": 0.2690196491373263,
         "hue": 0.31830388862154685,
         "od280/od315_of_diluted_wines": 0.7885874549958412,
         "proline": 1.3951481753804142,
         "Prediction": 1,
         "_deepnote_index_column": 2
        },
        {
         "alcohol": 1.6915496360924271,
         "malic_acid": -0.3468106433855897,
         "ash": 0.48792640478186344,
         "alcalinity_of_ash": -0.8092511842759068,
         "magnesium": 0.9309184487772288,
         "total_phenols": 2.4914455203328116,
         "flavanoids": 1.4665246487358865,
         "nonflavanoid_phenols": -0.9818753568481032,
         "proanthocyanins": 1.032154729737857,
         "color_intensity": 1.1860680130163983,
         "hue": -0.42754369304857526,
         "od280/od315_of_diluted_wines": 1.1840714432932113,
         "proline": 2.3345738282691917,
         "Prediction": 1,
         "_deepnote_index_column": 3
        },
        {
         "alcohol": 0.29570022561600007,
         "malic_acid": 0.2276937697958325,
         "ash": 1.840402541942377,
         "alcalinity_of_ash": 0.4519457833385771,
         "magnesium": 1.2819851519177938,
         "total_phenols": 0.8089973946320399,
         "flavanoids": 0.6633512708658426,
         "nonflavanoid_phenols": 0.2267955526882888,
         "proanthocyanins": 0.4014044428639109,
         "color_intensity": -0.3192755276907573,
         "hue": 0.3621772757786129,
         "od280/od315_of_diluted_wines": 0.4496011793123816,
         "proline": -0.03787400699229762,
         "Prediction": 1,
         "_deepnote_index_column": 4
        },
        {
         "alcohol": 1.4815545920384512,
         "malic_acid": -0.5173666410488243,
         "ash": 0.3051593592196326,
         "alcalinity_of_ash": -1.2897071719385678,
         "magnesium": 0.8607051081491157,
         "total_phenols": 1.5620932223266712,
         "flavanoids": 1.366127976502131,
         "nonflavanoid_phenols": -0.1760947504905084,
         "proanthocyanins": 0.6642170623947216,
         "color_intensity": 0.7318695309064807,
         "hue": 0.40605066293567893,
         "od280/od315_of_diluted_wines": 0.3366057540845615,
         "proline": 2.239039016111011,
         "Prediction": 1,
         "_deepnote_index_column": 5
        },
        {
         "alcohol": 1.7162549353928964,
         "malic_acid": -0.4186236950332673,
         "ash": 0.3051593592196326,
         "alcalinity_of_ash": -1.4698781673120656,
         "magnesium": -0.2627083419006926,
         "total_phenols": 0.32829793014610553,
         "flavanoids": 0.4926769280684583,
         "nonflavanoid_phenols": -0.4984069930335465,
         "proanthocyanins": 0.6817379036967756,
         "color_intensity": 0.08301455646374108,
         "hue": 0.27443050146448084,
         "od280/od315_of_diluted_wines": 1.3676890092884186,
         "proline": 1.7295200179340469,
         "Prediction": 1,
         "_deepnote_index_column": 6
        },
        {
         "alcohol": 1.3086174969351785,
         "malic_acid": -0.16727801426639524,
         "ash": 0.8900139050187723,
         "alcalinity_of_ash": -0.5690231904445763,
         "magnesium": 1.492625173802133,
         "total_phenols": 0.4885310849747506,
         "flavanoids": 0.4826372608450825,
         "nonflavanoid_phenols": -0.41782893239778696,
         "proanthocyanins": -0.5972835113531701,
         "color_intensity": -0.003499440128624266,
         "hue": 0.44992405009274494,
         "od280/od315_of_diluted_wines": 1.3676890092884186,
         "proline": 1.745442486627077,
         "Prediction": 1,
         "_deepnote_index_column": 7
        },
        {
         "alcohol": 2.2597715200031865,
         "malic_acid": -0.6250862185203412,
         "ash": -0.7183360959288647,
         "alcalinity_of_ash": -1.6500491626855631,
         "magnesium": -0.19249500127257954,
         "total_phenols": 0.8089973946320399,
         "flavanoids": 0.9545016203437334,
         "nonflavanoid_phenols": -0.5789850536693061,
         "proanthocyanins": 0.6817379036967756,
         "color_intensity": 0.06138605731564984,
         "hue": 0.5376708244068771,
         "od280/od315_of_diluted_wines": 0.3366057540845615,
         "proline": 0.9493190519755705,
         "Prediction": 1,
         "_deepnote_index_column": 8
        },
        {
         "alcohol": 1.0615645039304995,
         "malic_acid": -0.8854085307431729,
         "ash": -0.35280200480440144,
         "alcalinity_of_ash": -1.0494791781072375,
         "magnesium": -0.12228166064446654,
         "total_phenols": 1.097417073323601,
         "flavanoids": 1.1251759631411176,
         "nonflavanoid_phenols": -1.143031478119622,
         "proanthocyanins": 0.45396696677007314,
         "color_intensity": 0.9351774228985389,
         "hue": 0.2305571143074148,
         "od280/od315_of_diluted_wines": 1.3253157248279859,
         "proline": 0.9493190519755705,
         "Prediction": 1,
         "_deepnote_index_column": 9
        },
        {
         "alcohol": 1.3580280955361128,
         "malic_acid": -0.15830138281043532,
         "ash": -0.24314177746706322,
         "alcalinity_of_ash": -0.44890919352891157,
         "magnesium": 0.36921172375232464,
         "total_phenols": 1.0493471268750079,
         "flavanoids": 1.2958503059385018,
         "nonflavanoid_phenols": -1.143031478119622,
         "proanthocyanins": 1.3825715557789375,
         "color_intensity": 0.29929954794465424,
         "hue": 1.2835184060769986,
         "od280/od315_of_diluted_wines": 0.7885874549958412,
         "proline": 2.4301086404273726,
         "Prediction": 1,
         "_deepnote_index_column": 10
        },
        {
         "alcohol": 1.38273339483658,
         "malic_acid": -0.7687123218156966,
         "ash": -0.17003495924217055,
         "alcalinity_of_ash": -0.8092511842759068,
         "magnesium": -0.3329216825288056,
         "total_phenols": -0.15240153433982884,
         "flavanoids": 0.4023199230580785,
         "nonflavanoid_phenols": -0.8207192355765842,
         "proanthocyanins": -0.03661658968744038,
         "color_intensity": -0.025127939276715507,
         "hue": 0.9325313088204704,
         "od280/od315_of_diluted_wines": 0.2942324696241287,
         "proline": 1.6976750805479865,
         "Prediction": 1,
         "_deepnote_index_column": 11
        },
        {
         "alcohol": 0.9256853577779276,
         "malic_acid": -0.5442965354167035,
         "ash": 0.15894572276984725,
         "alcalinity_of_ash": -1.0494791781072375,
         "magnesium": -0.7542017262974837,
         "total_phenols": 0.4885310849747506,
         "flavanoids": 0.7336289414294712,
         "nonflavanoid_phenols": -0.5789850536693061,
         "proanthocyanins": 0.38388360156185686,
         "color_intensity": 0.23441405050038017,
         "hue": 0.8447845345063383,
         "od280/od315_of_diluted_wines": 0.40722789485194877,
         "proline": 1.8250548300922276,
         "Prediction": 1,
         "_deepnote_index_column": 12
        },
        {
         "alcohol": 2.1609503228013156,
         "malic_acid": -0.5442965354167035,
         "ash": 0.08583890454495459,
         "alcalinity_of_ash": -2.4307901426373864,
         "magnesium": -0.6137750450412577,
         "total_phenols": 1.2896968591179752,
         "flavanoids": 1.6673179932033972,
         "nonflavanoid_phenols": 0.5491077952313265,
         "proanthocyanins": 2.135967731767262,
         "color_intensity": 0.1479000539080152,
         "hue": 1.2835184060769986,
         "od280/od315_of_diluted_wines": 0.1671126162428314,
         "proline": 1.2836908945292032,
         "Prediction": 1,
         "_deepnote_index_column": 13
        },
        {
         "alcohol": 1.703902285742663,
         "malic_acid": -0.4186236950332673,
         "ash": 0.049285495432507445,
         "alcalinity_of_ash": -2.250619147263889,
         "magnesium": 0.15857170186798555,
         "total_phenols": 1.6101631687752644,
         "flavanoids": 1.6171196570865196,
         "nonflavanoid_phenols": -0.5789850536693061,
         "proanthocyanins": 2.3987803512980728,
         "color_intensity": 1.0562970181278504,
         "hue": 1.0641514702916686,
         "od280/od315_of_diluted_wines": 0.5484721763867239,
         "proline": 2.5479349087557956,
         "Prediction": 1,
         "_deepnote_index_column": 14
        },
        {
         "alcohol": 0.777453561975122,
         "malic_acid": -0.4724834837690257,
         "ash": 1.21899458703079,
         "alcalinity_of_ash": -0.6891371873602421,
         "magnesium": 0.8607051081491157,
         "total_phenols": 0.8891139720463628,
         "flavanoids": 0.8842239497801048,
         "nonflavanoid_phenols": -0.4984069930335465,
         "proanthocyanins": -0.22934584401003513,
         "color_intensity": 0.969783021535485,
         "hue": 1.4151385675481967,
         "od280/od315_of_diluted_wines": 0.3789790385449937,
         "proline": 1.7932098927061675,
         "Prediction": 1,
         "_deepnote_index_column": 15
        },
        {
         "alcohol": 1.6050810885407918,
         "malic_acid": -0.3737405377534689,
         "ash": 1.2921014052556827,
         "alcalinity_of_ash": 0.1516607910494142,
         "magnesium": 1.4224118331740199,
         "total_phenols": 0.8089973946320399,
         "flavanoids": 1.1151362959177422,
         "nonflavanoid_phenols": -0.25667281112626794,
         "proanthocyanins": 0.6642170623947216,
         "color_intensity": 0.4939560402774762,
         "hue": 0.493797437249811,
         "od280/od315_of_diluted_wines": 0.05411719101501135,
         "proline": 1.6976750805479865,
         "Prediction": 1,
         "_deepnote_index_column": 16
        },
        {
         "alcohol": 1.0245065549797987,
         "malic_acid": -0.687922638712059,
         "ash": 0.9265673141312194,
         "alcalinity_of_ash": 0.1516607910494142,
         "magnesium": 1.0713451300334549,
         "total_phenols": 1.0493471268750079,
         "flavanoids": 1.3761676437255064,
         "nonflavanoid_phenols": 0.30737361332404833,
         "proanthocyanins": 0.22619602984337026,
         "color_intensity": 0.6669840334622065,
         "hue": 0.7570377601922063,
         "od280/od315_of_diluted_wines": -0.05887823421280872,
         "proline": 1.2200010197570827,
         "Prediction": 1,
         "_deepnote_index_column": 17
        },
        {
         "alcohol": 1.4692019423882177,
         "malic_acid": -0.6699693758001396,
         "ash": 0.41481958655697077,
         "alcalinity_of_ash": -0.8993366819626559,
         "magnesium": 0.5798517456366636,
         "total_phenols": 1.6101631687752644,
         "flavanoids": 1.9082700065644105,
         "nonflavanoid_phenols": -0.33725087176202745,
         "proanthocyanins": 0.4714878080721272,
         "color_intensity": 1.5753809976820417,
         "hue": 1.1957716317628666,
         "od280/od315_of_diluted_wines": 0.2942324696241287,
         "proline": 2.971472575990397,
         "Prediction": 1,
         "_deepnote_index_column": 18
        },
        {
         "alcohol": 0.7898062116253557,
         "malic_acid": 0.6855019740497786,
         "ash": 0.7072468594565414,
         "alcalinity_of_ash": -1.2897071719385678,
         "magnesium": 1.1415584706615678,
         "total_phenols": 0.6487642398033956,
         "flavanoids": 1.004699956460611,
         "nonflavanoid_phenols": -1.5459217812984192,
         "proanthocyanins": 0.12107098203104584,
         "color_intensity": 0.018129059019466976,
         "hue": 0.011190178522084612,
         "od280/od315_of_diluted_wines": 1.0569515899119135,
         "proline": 0.31242030425436523,
         "Prediction": 1,
         "_deepnote_index_column": 19
        },
        {
         "alcohol": 1.3086174969351785,
         "malic_acid": -0.6340628499763009,
         "ash": -0.3162485956919559,
         "alcalinity_of_ash": -1.0494791781072375,
         "magnesium": 1.843691876942698,
         "total_phenols": 1.12946370428933,
         "flavanoids": 1.1452552975878687,
         "nonflavanoid_phenols": -0.9818753568481032,
         "proanthocyanins": 0.8919879993214244,
         "color_intensity": 0.2560425496484718,
         "hue": 0.5815442115639431,
         "od280/od315_of_diluted_wines": 1.551306575283626,
         "proline": 0.10542821124497355,
         "Prediction": 1,
         "_deepnote_index_column": 20
        },
        {
         "alcohol": -0.08723191354125075,
         "malic_acid": 1.313866175966959,
         "ash": 1.0362275414685576,
         "alcalinity_of_ash": -0.2687381981554134,
         "magnesium": 0.15857170186798555,
         "total_phenols": 0.18408809080032537,
         "flavanoids": 0.38224058861132737,
         "nonflavanoid_phenols": -0.9012972962123437,
         "proanthocyanins": 0.6817379036967756,
         "color_intensity": -0.24141293075762868,
         "hue": 0.31830388862154685,
         "od280/od315_of_diluted_wines": 1.2829424403675536,
         "proline": 0.07358327385891329,
         "Prediction": 1,
         "_deepnote_index_column": 21
        },
        {
         "alcohol": 0.8762747591769932,
         "malic_acid": -0.4276003264892271,
         "ash": -0.023821322792385226,
         "alcalinity_of_ash": -0.8693081827337392,
         "magnesium": 0.08835836123987253,
         "total_phenols": 0.5045544004576148,
         "flavanoids": 0.8541049481099778,
         "nonflavanoid_phenols": -0.7401411749408247,
         "proanthocyanins": 0.17363350593720803,
         "color_intensity": -0.5442119188309072,
         "hue": 0.6692909858780751,
         "od280/od315_of_diluted_wines": 1.9609149917344735,
         "proline": 0.9174741145895102,
         "Prediction": 1,
         "_deepnote_index_column": 22
        },
        {
         "alcohol": -0.18605311074312186,
         "malic_acid": -0.6609927443441799,
         "ash": 0.5610332230067561,
         "alcalinity_of_ash": -0.508966191986744,
         "magnesium": -0.3329216825288056,
         "total_phenols": 0.29625129918037657,
         "flavanoids": 0.3420819197178252,
         "nonflavanoid_phenols": -0.8207192355765842,
         "proanthocyanins": -0.22934584401003513,
         "color_intensity": -0.4879778210458696,
         "hue": 0.5815442115639431,
         "od280/od315_of_diluted_wines": 1.438311150055806,
         "proline": 0.8537842398173897,
         "Prediction": 1,
         "_deepnote_index_column": 23
        },
        {
         "alcohol": 0.6168691165220807,
         "malic_acid": -0.4724834837690257,
         "ash": 0.8900139050187723,
         "alcalinity_of_ash": 0.1516607910494142,
         "magnesium": -0.2627083419006926,
         "total_phenols": 0.3763678765946987,
         "flavanoids": 0.5830339330788381,
         "nonflavanoid_phenols": -0.6595631143050651,
         "proanthocyanins": 0.12107098203104584,
         "color_intensity": -0.6653315140602185,
         "hue": 0.7131643730351411,
         "od280/od315_of_diluted_wines": 1.7066752849718783,
         "proline": 0.31242030425436523,
         "Prediction": 1,
         "_deepnote_index_column": 24
        },
        {
         "alcohol": 0.06099988226155702,
         "malic_acid": -0.25704432882599254,
         "ash": 3.119771860877998,
         "alcalinity_of_ash": 1.6530857524952287,
         "magnesium": 1.703265195686472,
         "total_phenols": 0.5366010314233437,
         "flavanoids": 0.6533116036424672,
         "nonflavanoid_phenols": 0.8714200377743642,
         "proanthocyanins": 0.5766128558844512,
         "color_intensity": -0.639377315082509,
         "hue": 0.7570377601922063,
         "od280/od315_of_diluted_wines": 0.830960739456274,
         "proline": 0.2646528981752749,
         "Prediction": 1,
         "_deepnote_index_column": 25
        },
        {
         "alcohol": 0.4809899703695087,
         "malic_acid": -0.5083900095928646,
         "ash": 0.9265673141312194,
         "alcalinity_of_ash": -1.0194506788783206,
         "magnesium": -0.47334836378503165,
         "total_phenols": 0.8891139720463628,
         "flavanoids": 0.9143429514502311,
         "nonflavanoid_phenols": -0.1760947504905084,
         "proanthocyanins": -0.2468666853120892,
         "color_intensity": -0.11164193586908086,
         "hue": -0.16430337010617904,
         "od280/od315_of_diluted_wines": 0.859209595763229,
         "proline": 1.4269931127664743,
         "Prediction": 1,
         "_deepnote_index_column": 26
        },
        {
         "alcohol": 0.36981612351740395,
         "malic_acid": -0.5532731668726633,
         "ash": -0.827996323266203,
         "alcalinity_of_ash": -0.7491941858180745,
         "magnesium": -0.4031350231569186,
         "total_phenols": 0.16806477531746053,
         "flavanoids": 0.16136790969706516,
         "nonflavanoid_phenols": -0.7401411749408247,
         "proanthocyanins": -0.42207509833262946,
         "color_intensity": -0.4793264213866331,
         "hue": 0.27443050146448084,
         "od280/od315_of_diluted_wines": 0.22361032885674145,
         "proline": 1.7135975492410167,
         "Prediction": 1,
         "_deepnote_index_column": 27
        },
        {
         "alcohol": 1.0739171535807333,
         "malic_acid": -0.39169380066538834,
         "ash": 1.584528678155252,
         "alcalinity_of_ash": -0.028510204324083955,
         "magnesium": 0.5096384050085506,
         "total_phenols": 1.0493471268750079,
         "flavanoids": 0.9444619531203581,
         "nonflavanoid_phenols": 0.06563943141676974,
         "proanthocyanins": 0.2962793950515865,
         "color_intensity": -0.24141293075762868,
         "hue": 1.2835184060769986,
         "od280/od315_of_diluted_wines": 1.1134493025258236,
         "proline": 0.535334865956787,
         "Prediction": 1,
         "_deepnote_index_column": 28
        },
        {
         "alcohol": 1.2592068983342417,
         "malic_acid": -0.5891796926965022,
         "ash": -0.5721224594790795,
         "alcalinity_of_ash": -1.0494791781072375,
         "magnesium": -0.2627083419006926,
         "total_phenols": 0.5686476623890727,
         "flavanoids": 0.301923250824323,
         "nonflavanoid_phenols": -0.8207192355765842,
         "proanthocyanins": 0.6817379036967756,
         "color_intensity": -0.15489893416526335,
         "hue": 0.3621772757786129,
         "od280/od315_of_diluted_wines": 1.381813437441896,
         "proline": 0.9174741145895102,
         "Prediction": 1,
         "_deepnote_index_column": 29
        },
        {
         "alcohol": 0.9009800584774604,
         "malic_acid": -0.7507590589037771,
         "ash": 1.21899458703079,
         "alcalinity_of_ash": 0.9023732717723214,
         "magnesium": 0.08835836123987253,
         "total_phenols": 1.12946370428933,
         "flavanoids": 1.2255726353748733,
         "nonflavanoid_phenols": -0.5789850536693061,
         "proanthocyanins": 1.3825715557789375,
         "color_intensity": 0.277671048796563,
         "hue": 1.0202780831346026,
         "od280/od315_of_diluted_wines": 0.1388637599358764,
         "proline": 1.7135975492410167,
         "Prediction": 1,
         "_deepnote_index_column": 30
        },
        {
         "alcohol": 0.7156903137239518,
         "malic_acid": -0.6071329556084216,
         "ash": -0.023821322792385226,
         "alcalinity_of_ash": -0.11859570201083197,
         "magnesium": 0.43942506438043766,
         "total_phenols": 0.905137287529227,
         "flavanoids": 1.1653346320346198,
         "nonflavanoid_phenols": -1.143031478119622,
         "proanthocyanins": 0.6291753797906134,
         "color_intensity": 0.7967550283507547,
         "hue": 0.5815442115639431,
         "od280/od315_of_diluted_wines": 0.3789790385449937,
         "proline": 2.446031109120403,
         "Prediction": 1,
         "_deepnote_index_column": 31
        },
        {
         "alcohol": 0.8392168102262901,
         "malic_acid": -0.45453022085710626,
         "ash": -0.023821322792385226,
         "alcalinity_of_ash": -0.6891371873602421,
         "magnesium": 0.2989983831242116,
         "total_phenols": 0.20011140628318952,
         "flavanoids": 0.6633512708658426,
         "nonflavanoid_phenols": 0.46852973459556696,
         "proanthocyanins": 0.6642170623947216,
         "color_intensity": -0.5269091195124341,
         "hue": 1.1957716317628666,
         "od280/od315_of_diluted_wines": 0.3648546103915165,
         "proline": 0.774171896352239,
         "Prediction": 1,
         "_deepnote_index_column": 32
        },
        {
         "alcohol": 0.9380380074281612,
         "malic_acid": -0.723829164535898,
         "ash": 1.21899458703079,
         "alcalinity_of_ash": 0.0015182949048327598,
         "magnesium": 2.264971920711376,
         "total_phenols": 1.0493471268750079,
         "flavanoids": 0.7135496069827205,
         "nonflavanoid_phenols": 1.1131542196816426,
         "proanthocyanins": -0.42207509833262946,
         "color_intensity": 0.1479000539080152,
         "hue": 1.2835184060769986,
         "od280/od315_of_diluted_wines": 0.5484721763867239,
         "proline": 1.5543728623107154,
         "Prediction": 1,
         "_deepnote_index_column": 33
        },
        {
         "alcohol": 0.6292217661723143,
         "malic_acid": -0.48146011522498544,
         "ash": 1.0362275414685576,
         "alcalinity_of_ash": -0.14862420123974868,
         "magnesium": 0.7202784268928897,
         "total_phenols": 0.08794819790313836,
         "flavanoids": 0.5027165952918337,
         "nonflavanoid_phenols": -0.5789850536693061,
         "proanthocyanins": -0.08917911359360259,
         "color_intensity": -0.3711839256461765,
         "hue": 0.6254175987210091,
         "od280/od315_of_diluted_wines": 0.3648546103915165,
         "proline": 1.1085437389058719,
         "Prediction": 1,
         "_deepnote_index_column": 34
        }
       ],
       "rows_bottom": [
        {
         "alcohol": 0.6415744158225479,
         "malic_acid": 0.7483383942414965,
         "ash": 1.2921014052556827,
         "alcalinity_of_ash": 1.2026582640614842,
         "magnesium": -0.19249500127257954,
         "total_phenols": -1.193917040726021,
         "flavanoids": -1.5152565166066512,
         "nonflavanoid_phenols": 1.1131542196816426,
         "proanthocyanins": -1.8237424024969537,
         "color_intensity": -0.3062984282019028,
         "hue": -0.29592353157737716,
         "od280/od315_of_diluted_wines": -0.7792240700401607,
         "proline": -0.7225401607925932,
         "Prediction": 0,
         "_deepnote_index_column": 142
        },
        {
         "alcohol": 0.7651009123248862,
         "malic_acid": 2.3461787934023275,
         "ash": -0.060374731904830746,
         "alcalinity_of_ash": 0.1516607910494142,
         "magnesium": -0.5435617044131447,
         "total_phenols": -0.4728678439971189,
         "flavanoids": -1.2341458343521357,
         "nonflavanoid_phenols": 0.8714200377743642,
         "proanthocyanins": -1.0002628613004134,
         "color_intensity": -0.28466992905381117,
         "hue": -0.20817675726324508,
         "od280/od315_of_diluted_wines": -0.7933484981936385,
         "proline": -0.6270053486344125,
         "Prediction": 0,
         "_deepnote_index_column": 143
        },
        {
         "alcohol": -0.9272120897571541,
         "malic_acid": 1.3856792276146368,
         "ash": -0.6086758685915249,
         "alcalinity_of_ash": -0.29876669738433015,
         "magnesium": 0.8607051081491157,
         "total_phenols": -1.4663134039347174,
         "flavanoids": -1.2542251687988868,
         "nonflavanoid_phenols": -0.5789850536693061,
         "proanthocyanins": -0.7900127656757648,
         "color_intensity": 1.3634217060307474,
         "hue": -1.348884823346961,
         "od280/od315_of_diluted_wines": -0.8639706389610258,
         "proline": 0.3442652416404255,
         "Prediction": 0,
         "_deepnote_index_column": 144
        },
        {
         "alcohol": 0.19687902841412896,
         "malic_acid": 1.1074036524798854,
         "ash": -0.7914429141537574,
         "alcalinity_of_ash": 0.4519457833385771,
         "magnesium": 0.15857170186798555,
         "total_phenols": -1.2740336181403433,
         "flavanoids": -1.4851375149365245,
         "nonflavanoid_phenols": 0.5491077952313265,
         "proanthocyanins": -0.5096793048428998,
         "color_intensity": -0.4576979222385419,
         "hue": -1.5682517591322913,
         "od280/od315_of_diluted_wines": -1.3159523398723056,
         "proline": 0.2646528981752749,
         "Prediction": 0,
         "_deepnote_index_column": 145
        },
        {
         "alcohol": 1.086269803230969,
         "malic_acid": 2.426968476505965,
         "ash": -0.49901564125418674,
         "alcalinity_of_ash": 0.1516607910494142,
         "magnesium": -1.386121791950501,
         "total_phenols": -2.1072460232492967,
         "flavanoids": -1.6959705266274108,
         "nonflavanoid_phenols": 0.30737361332404833,
         "proanthocyanins": -1.595971465570251,
         "color_intensity": -0.06838493757289799,
         "hue": -1.6559985334464233,
         "od280/od315_of_diluted_wines": -1.8103073252440178,
         "proline": -1.056912003346226,
         "Prediction": 0,
         "_deepnote_index_column": 146
        },
        {
         "alcohol": -0.16134781144265464,
         "malic_acid": 2.040973323899697,
         "ash": 0.41481958655697077,
         "alcalinity_of_ash": 0.6020882794831586,
         "magnesium": -0.9648417481818228,
         "total_phenols": -0.9535673084830537,
         "flavanoids": -1.384740842702769,
         "nonflavanoid_phenols": 0.8714200377743642,
         "proanthocyanins": -1.2805963221332781,
         "color_intensity": 1.1211825155721244,
         "hue": -1.831492082074687,
         "od280/od315_of_diluted_wines": -1.0617126331097106,
         "proline": -0.3881683182389605,
         "Prediction": 0,
         "_deepnote_index_column": 147
        },
        {
         "alcohol": 0.3945214228178712,
         "malic_acid": 0.8111748144332148,
         "ash": 0.049285495432507445,
         "alcalinity_of_ash": 0.6020882794831586,
         "magnesium": -0.5435617044131447,
         "total_phenols": -0.5850310523771705,
         "flavanoids": -1.274304503245638,
         "nonflavanoid_phenols": 0.7102639165028455,
         "proanthocyanins": -0.5972835113531701,
         "color_intensity": 1.4542614024527307,
         "hue": -1.787618694917621,
         "od280/od315_of_diluted_wines": -1.4006989087931705,
         "proline": -0.30855597477380986,
         "Prediction": 0,
         "_deepnote_index_column": 148
        },
        {
         "alcohol": 0.09805783121225786,
         "malic_acid": 1.4036324905265563,
         "ash": -0.023821322792385226,
         "alcalinity_of_ash": 0.6020882794831586,
         "magnesium": 0.9309184487772288,
         "total_phenols": -1.418243457486124,
         "flavanoids": -0.6418054681729786,
         "nonflavanoid_phenols": -0.1760947504905084,
         "proanthocyanins": -0.7900127656757648,
         "color_intensity": 1.8781799857553207,
         "hue": -1.6998719206034894,
         "od280/od315_of_diluted_wines": -1.8103073252440178,
         "proline": -0.6270053486344125,
         "Prediction": 0,
         "_deepnote_index_column": 149
        },
        {
         "alcohol": 0.6168691165220807,
         "malic_acid": 0.7034552369616981,
         "ash": 0.9265673141312194,
         "alcalinity_of_ash": 1.3528007602060657,
         "magnesium": 1.633051855058359,
         "total_phenols": -1.4342667729689884,
         "flavanoids": -0.46109145815221864,
         "nonflavanoid_phenols": -1.143031478119622,
         "proanthocyanins": -0.5972835113531701,
         "color_intensity": 1.5321239993858593,
         "hue": -1.6121251462893573,
         "od280/od315_of_diluted_wines": -1.8526806097044504,
         "proline": -0.7862300355647138,
         "Prediction": 0,
         "_deepnote_index_column": 150
        },
        {
         "alcohol": -0.26016900864452575,
         "malic_acid": 0.2995068214435104,
         "ash": 0.41481958655697077,
         "alcalinity_of_ash": 0.75223077562774,
         "magnesium": 0.8607051081491157,
         "total_phenols": -1.3060802491060723,
         "flavanoids": -0.671924469843105,
         "nonflavanoid_phenols": -0.9818753568481032,
         "proanthocyanins": -0.579762670051116,
         "color_intensity": 2.4837779619018776,
         "hue": -2.094732405017083,
         "od280/od315_of_diluted_wines": -1.6125653310953332,
         "proline": -0.8499199103368343,
         "Prediction": 0,
         "_deepnote_index_column": 151
        },
        {
         "alcohol": 0.1351157801629587,
         "malic_acid": -0.39169380066538834,
         "ash": 1.401761632593021,
         "alcalinity_of_ash": 1.8032282486398101,
         "magnesium": 1.1415584706615678,
         "total_phenols": -0.15240153433982884,
         "flavanoids": -0.7522418076301095,
         "nonflavanoid_phenols": -0.8207192355765842,
         "proanthocyanins": -0.054137430989494445,
         "color_intensity": 0.8832690249431197,
         "hue": -1.524378371975225,
         "od280/od315_of_diluted_wines": -1.8103073252440178,
         "proline": -1.0250670659601657,
         "Prediction": 0,
         "_deepnote_index_column": 152
        },
        {
         "alcohol": 0.2833475759657665,
         "malic_acid": 0.8650346031689728,
         "ash": -0.3162485956919559,
         "alcalinity_of_ash": -0.29876669738433015,
         "magnesium": -0.12228166064446654,
         "total_phenols": -0.7933341536544086,
         "flavanoids": -1.2040268326820092,
         "nonflavanoid_phenols": 1.9995128866749967,
         "proanthocyanins": 0.48900864937418126,
         "color_intensity": 2.362658366672566,
         "hue": -1.743745307760555,
         "od280/od315_of_diluted_wines": -1.556067618481423,
         "proline": -0.2289436313086592,
         "Prediction": 0,
         "_deepnote_index_column": 153
        },
        {
         "alcohol": -0.519574651299436,
         "malic_acid": -0.9392683194789313,
         "ash": -0.9742099597159882,
         "alcalinity_of_ash": 0.1516607910494142,
         "magnesium": 0.22878504249609857,
         "total_phenols": -1.3060802491060723,
         "flavanoids": -1.4550185132663978,
         "nonflavanoid_phenols": 1.3548884015889213,
         "proanthocyanins": -0.3344708918223595,
         "color_intensity": 1.099554016424033,
         "hue": -1.6559985334464233,
         "od280/od315_of_diluted_wines": -1.499569905867513,
         "proline": -0.3404009121598701,
         "Prediction": 0,
         "_deepnote_index_column": 154
        },
        {
         "alcohol": 0.2092316780643626,
         "malic_acid": 2.561617948345361,
         "ash": -0.17003495924217055,
         "alcalinity_of_ash": 0.75223077562774,
         "magnesium": -0.47334836378503165,
         "total_phenols": -0.8894740465515957,
         "flavanoids": -1.4048201771495201,
         "nonflavanoid_phenols": 1.9995128866749967,
         "proanthocyanins": -0.07165827229154852,
         "color_intensity": 1.229325011312581,
         "hue": -1.5682517591322913,
         "od280/od315_of_diluted_wines": -1.5984409029418556,
         "proline": -0.06971894437835789,
         "Prediction": 0,
         "_deepnote_index_column": 155
        },
        {
         "alcohol": 1.0368592046300324,
         "malic_acid": 1.6011183825576705,
         "ash": 0.049285495432507445,
         "alcalinity_of_ash": 0.0015182949048327598,
         "magnesium": -0.7542017262974837,
         "total_phenols": -0.7933341536544086,
         "flavanoids": -1.2040268326820092,
         "nonflavanoid_phenols": 0.9519980984101236,
         "proanthocyanins": -0.054137430989494445,
         "color_intensity": 1.7094776924002082,
         "hue": -1.6998719206034894,
         "od280/od315_of_diluted_wines": -1.3724500524862158,
         "proline": -0.8499199103368343,
         "Prediction": 0,
         "_deepnote_index_column": 156
        },
        {
         "alcohol": -0.6801590967524774,
         "malic_acid": 0.6226655538580603,
         "ash": 0.9996741323561121,
         "alcalinity_of_ash": 2.2536557370735544,
         "magnesium": -0.19249500127257954,
         "total_phenols": -0.633100998825764,
         "flavanoids": -1.4550185132663978,
         "nonflavanoid_phenols": 2.160669007946516,
         "proanthocyanins": -0.7900127656757648,
         "color_intensity": 1.0562970181278504,
         "hue": -1.261138049032829,
         "od280/od315_of_diluted_wines": -1.2453301991049182,
         "proline": 0.42387758510557616,
         "Prediction": 0,
         "_deepnote_index_column": 157
        },
        {
         "alcohol": 1.6544916871417263,
         "malic_acid": -0.5891796926965022,
         "ash": 1.21899458703079,
         "alcalinity_of_ash": 1.6530857524952287,
         "magnesium": -0.12228166064446654,
         "total_phenols": 0.8089973946320399,
         "flavanoids": -0.7221228059599828,
         "nonflavanoid_phenols": 1.3548884015889213,
         "proanthocyanins": 1.9432384774446676,
         "color_intensity": 3.4354319244178955,
         "hue": -1.6998719206034894,
         "od280/od315_of_diluted_wines": -0.9204683515749358,
         "proline": -0.2767110373877496,
         "Prediction": 0,
         "_deepnote_index_column": 158
        },
        {
         "alcohol": 0.5921638172216134,
         "malic_acid": -0.5981563241524619,
         "ash": 0.9996741323561121,
         "alcalinity_of_ash": 0.9023732717723214,
         "magnesium": -0.7542017262974837,
         "total_phenols": 0.4885310849747506,
         "flavanoids": -0.9329558176508693,
         "nonflavanoid_phenols": 1.2743103409531618,
         "proanthocyanins": 1.2248839840604513,
         "color_intensity": 2.8947194457156122,
         "hue": -1.6998719206034894,
         "od280/od315_of_diluted_wines": -1.1747080583375307,
         "proline": -0.40409078693199063,
         "Prediction": 0,
         "_deepnote_index_column": 159
        },
        {
         "alcohol": -0.7913329436045822,
         "malic_acid": 1.3407960703348383,
         "ash": 0.049285495432507445,
         "alcalinity_of_ash": 0.4519457833385771,
         "magnesium": -0.8244150669255967,
         "total_phenols": 0.007831620488815487,
         "flavanoids": -1.1136698276716293,
         "nonflavanoid_phenols": 1.1131542196816426,
         "proanthocyanins": -0.9652211786963052,
         "color_intensity": 1.1211825155721244,
         "hue": -1.743745307760555,
         "od280/od315_of_diluted_wines": -1.4571966214070804,
         "proline": -0.7225401607925932,
         "Prediction": 0,
         "_deepnote_index_column": 160
        },
        {
         "alcohol": 0.8515694598765238,
         "malic_acid": 0.8291280773451339,
         "ash": 0.6341400412316488,
         "alcalinity_of_ash": 0.1516607910494142,
         "magnesium": 0.5096384050085506,
         "total_phenols": -0.7452642072058151,
         "flavanoids": -1.475097847713149,
         "nonflavanoid_phenols": 1.1131542196816426,
         "proanthocyanins": -1.3857213699456024,
         "color_intensity": 0.35553364572969165,
         "hue": 0.011190178522084612,
         "od280/od315_of_diluted_wines": -1.1182103457236205,
         "proline": -0.21302116261562906,
         "Prediction": 0,
         "_deepnote_index_column": 161
        },
        {
         "alcohol": -0.18605311074312186,
         "malic_acid": 0.8381047088010938,
         "ash": 0.7803536776814342,
         "alcalinity_of_ash": 0.75223077562774,
         "magnesium": 0.43942506438043766,
         "total_phenols": -1.0336838858973763,
         "flavanoids": -1.4349391788196466,
         "nonflavanoid_phenols": 1.9189348260392372,
         "proanthocyanins": -1.1053879091127377,
         "color_intensity": 0.2257626508411438,
         "hue": -0.38367030589150924,
         "od280/od315_of_diluted_wines": -0.7086019292727734,
         "proline": -0.563315473862292,
         "Prediction": 0,
         "_deepnote_index_column": 162
        },
        {
         "alcohol": -0.05017396459054771,
         "malic_acid": 0.999684075008369,
         "ash": -0.060374731904830746,
         "alcalinity_of_ash": -0.29876669738433015,
         "magnesium": 0.43942506438043766,
         "total_phenols": -1.4502900884518528,
         "flavanoids": -1.3345425065858914,
         "nonflavanoid_phenols": 0.30737361332404833,
         "proanthocyanins": -1.1404295917168459,
         "color_intensity": 0.09599165595259598,
         "hue": -1.217264661875763,
         "od280/od315_of_diluted_wines": -1.2170813427979632,
         "proline": -0.2289436313086592,
         "Prediction": 0,
         "_deepnote_index_column": 163
        },
        {
         "alcohol": 0.9627433067286285,
         "malic_acid": 0.38029650454714775,
         "ash": -0.24314177746706322,
         "alcalinity_of_ash": 0.75223077562774,
         "magnesium": -0.6839883856693707,
         "total_phenols": -1.5143833503833106,
         "flavanoids": -1.3546218410326423,
         "nonflavanoid_phenols": 0.3879516739598074,
         "proanthocyanins": -0.9827420199983592,
         "color_intensity": 1.9560425826884493,
         "hue": -1.1295178875616314,
         "od280/od315_of_diluted_wines": -1.3159523398723056,
         "proline": -0.4200132556250208,
         "Prediction": 0,
         "_deepnote_index_column": 164
        },
        {
         "alcohol": 0.9009800584774604,
         "malic_acid": 1.816557537500704,
         "ash": -0.3893554139168486,
         "alcalinity_of_ash": 0.9023732717723214,
         "magnesium": -0.8244150669255967,
         "total_phenols": -1.626546558763362,
         "flavanoids": -1.5654548527235288,
         "nonflavanoid_phenols": 1.2743103409531618,
         "proanthocyanins": -0.7724919243737108,
         "color_intensity": 0.6756354331214433,
         "hue": -0.7785307903051031,
         "od280/od315_of_diluted_wines": -1.2170813427979632,
         "proline": -0.7225401607925932,
         "Prediction": 0,
         "_deepnote_index_column": 165
        },
        {
         "alcohol": 0.5551058682709104,
         "malic_acid": 1.2240998614073622,
         "ash": 0.8534604959063268,
         "alcalinity_of_ash": 1.0525157679169028,
         "magnesium": 0.7904917675210027,
         "total_phenols": -0.9535673084830537,
         "flavanoids": -1.1136698276716293,
         "nonflavanoid_phenols": 0.5491077952313265,
         "proanthocyanins": -0.22934584401003513,
         "color_intensity": 2.4318695639464583,
         "hue": -0.47141708020564127,
         "od280/od315_of_diluted_wines": -1.4854454777140356,
         "proline": -0.16525375653653868,
         "Prediction": 0,
         "_deepnote_index_column": 166
        },
        {
         "alcohol": -0.22311105969382272,
         "malic_acid": 0.9278710233606912,
         "ash": -0.24314177746706322,
         "alcalinity_of_ash": 0.0015182949048327598,
         "magnesium": -0.8244150669255967,
         "total_phenols": -1.3060802491060723,
         "flavanoids": -1.3747011754793932,
         "nonflavanoid_phenols": 0.30737361332404833,
         "proanthocyanins": -1.0878670678106837,
         "color_intensity": 2.250190171102491,
         "hue": -1.0417711132474992,
         "od280/od315_of_diluted_wines": -1.2170813427979632,
         "proline": -0.19709869392259893,
         "Prediction": 0,
         "_deepnote_index_column": 167
        },
        {
         "alcohol": 0.7156903137239518,
         "malic_acid": 0.21871713833987297,
         "ash": 1.182441177918343,
         "alcalinity_of_ash": 1.5029432563506473,
         "magnesium": 0.36921172375232464,
         "total_phenols": -1.193917040726021,
         "flavanoids": -1.1939871654586338,
         "nonflavanoid_phenols": 0.2267955526882888,
         "proanthocyanins": -0.08917911359360259,
         "color_intensity": 1.558078198363569,
         "hue": -0.9540243389333672,
         "od280/od315_of_diluted_wines": -1.1464592020305757,
         "proline": 0.00989339908679277,
         "Prediction": 0,
         "_deepnote_index_column": 168
        },
        {
         "alcohol": 0.49334262001974233,
         "malic_acid": 2.0319966924437365,
         "ash": 1.8038491328299298,
         "alcalinity_of_ash": 1.6530857524952287,
         "magnesium": 0.8607051081491157,
         "total_phenols": -0.5049144749628479,
         "flavanoids": -1.073511158778127,
         "nonflavanoid_phenols": -0.7401411749408247,
         "proanthocyanins": -0.8425752895819267,
         "color_intensity": 1.4888670010896767,
         "hue": -1.261138049032829,
         "od280/od315_of_diluted_wines": -0.9769660641888458,
         "proline": -0.3722458495459304,
         "Prediction": 0,
         "_deepnote_index_column": 169
        },
        {
         "alcohol": -0.9889753380083244,
         "malic_acid": 0.6226655538580603,
         "ash": -0.17003495924217055,
         "alcalinity_of_ash": -0.14862420123974868,
         "magnesium": -0.2627083419006926,
         "total_phenols": -1.6746165052119557,
         "flavanoids": -1.5453755182767777,
         "nonflavanoid_phenols": 0.30737361332404833,
         "proanthocyanins": -1.5083672590599808,
         "color_intensity": 0.19115705220419768,
         "hue": -1.305011436189895,
         "od280/od315_of_diluted_wines": -1.1040859175701432,
         "proline": -0.7543850981786535,
         "Prediction": 0,
         "_deepnote_index_column": 170
        },
        {
         "alcohol": -0.28487430794499297,
         "malic_acid": 0.04816114067663829,
         "ash": -0.3162485956919559,
         "alcalinity_of_ash": 0.0015182949048327598,
         "magnesium": -0.9648417481818228,
         "total_phenols": -1.4502900884518528,
         "flavanoids": -1.5252961838300267,
         "nonflavanoid_phenols": 0.9519980984101236,
         "proanthocyanins": -1.6660548307784673,
         "color_intensity": 2.09446454466625,
         "hue": -1.6998719206034894,
         "od280/od315_of_diluted_wines": -1.3865744806396934,
         "proline": -0.8817648477228945,
         "Prediction": 0,
         "_deepnote_index_column": 171
        },
        {
         "alcohol": 1.4321439934375169,
         "malic_acid": 0.15588071814815466,
         "ash": 0.41481958655697077,
         "alcalinity_of_ash": 0.1516607910494142,
         "magnesium": -0.6137750450412577,
         "total_phenols": -0.9856139394487826,
         "flavanoids": -1.3345425065858914,
         "nonflavanoid_phenols": 0.629685855867086,
         "proanthocyanins": -0.6148043526552243,
         "color_intensity": 2.007950980643868,
         "hue": -1.480504984818159,
         "od280/od315_of_diluted_wines": -1.273579055411873,
         "proline": -0.2767110373877496,
         "Prediction": 0,
         "_deepnote_index_column": 172
        },
        {
         "alcohol": 0.8762747591769932,
         "malic_acid": 2.974542995319508,
         "ash": 0.3051593592196326,
         "alcalinity_of_ash": 0.30180328719399563,
         "magnesium": -0.3329216825288056,
         "total_phenols": -0.9856139394487826,
         "flavanoids": -1.4248995115962713,
         "nonflavanoid_phenols": 1.2743103409531618,
         "proanthocyanins": -0.9301794960921971,
         "color_intensity": 1.1428110147202157,
         "hue": -1.392758210504027,
         "od280/od315_of_diluted_wines": -1.2312057709514406,
         "proline": -0.021951538299267492,
         "Prediction": 0,
         "_deepnote_index_column": 173
        },
        {
         "alcohol": 0.49334262001974233,
         "malic_acid": 1.4126091219825163,
         "ash": 0.41481958655697077,
         "alcalinity_of_ash": 1.0525157679169028,
         "magnesium": 0.15857170186798555,
         "total_phenols": -0.7933341536544086,
         "flavanoids": -1.2843441704690135,
         "nonflavanoid_phenols": 0.5491077952313265,
         "proanthocyanins": -0.31695005052030545,
         "color_intensity": 0.969783021535485,
         "hue": -1.1295178875616314,
         "od280/od315_of_diluted_wines": -1.4854454777140356,
         "proline": 0.00989339908679277,
         "Prediction": 0,
         "_deepnote_index_column": 174
        },
        {
         "alcohol": 0.3327581745667009,
         "malic_acid": 1.744744485853026,
         "ash": -0.3893554139168486,
         "alcalinity_of_ash": 0.1516607910494142,
         "magnesium": 1.4224118331740199,
         "total_phenols": -1.1298237787945629,
         "flavanoids": -1.344582173809267,
         "nonflavanoid_phenols": 0.5491077952313265,
         "proanthocyanins": -0.42207509833262946,
         "color_intensity": 2.2242359721247813,
         "hue": -1.6121251462893573,
         "od280/od315_of_diluted_wines": -1.4854454777140356,
         "proline": 0.280575366868305,
         "Prediction": 0,
         "_deepnote_index_column": 175
        },
        {
         "alcohol": 0.2092316780643626,
         "malic_acid": 0.2276937697958325,
         "ash": 0.01273208632006192,
         "alcalinity_of_ash": 0.1516607910494142,
         "magnesium": 1.4224118331740199,
         "total_phenols": -1.0336838858973763,
         "flavanoids": -1.3546218410326423,
         "nonflavanoid_phenols": 1.3548884015889213,
         "proanthocyanins": -0.22934584401003513,
         "color_intensity": 1.8349229874591382,
         "hue": -1.5682517591322913,
         "od280/od315_of_diluted_wines": -1.4006989087931705,
         "proline": 0.29649783556133513,
         "Prediction": 0,
         "_deepnote_index_column": 176
        },
        {
         "alcohol": 1.395086044486816,
         "malic_acid": 1.5831651196457506,
         "ash": 1.3652082234805754,
         "alcalinity_of_ash": 1.5029432563506473,
         "magnesium": -0.2627083419006926,
         "total_phenols": -0.39275126658279674,
         "flavanoids": -1.274304503245638,
         "nonflavanoid_phenols": 1.5966225834961998,
         "proanthocyanins": -0.42207509833262946,
         "color_intensity": 1.791665989162955,
         "hue": -1.524378371975225,
         "od280/od315_of_diluted_wines": -1.4289477651001254,
         "proline": -0.5951604112483522,
         "Prediction": 0,
         "_deepnote_index_column": 177
        }
       ]
      },
      "text/plain": "      alcohol  malic_acid       ash  alcalinity_of_ash  magnesium  \\\n0    1.518613   -0.562250  0.232053          -1.169593   1.913905   \n1    0.246290   -0.499413 -0.827996          -2.490847   0.018145   \n2    0.196879    0.021231  1.109334          -0.268738   0.088358   \n3    1.691550   -0.346811  0.487926          -0.809251   0.930918   \n4    0.295700    0.227694  1.840403           0.451946   1.281985   \n..        ...         ...       ...                ...        ...   \n173  0.876275    2.974543  0.305159           0.301803  -0.332922   \n174  0.493343    1.412609  0.414820           1.052516   0.158572   \n175  0.332758    1.744744 -0.389355           0.151661   1.422412   \n176  0.209232    0.227694  0.012732           0.151661   1.422412   \n177  1.395086    1.583165  1.365208           1.502943  -0.262708   \n\n     total_phenols  flavanoids  nonflavanoid_phenols  proanthocyanins  \\\n0         0.808997    1.034819             -0.659563         1.224884   \n1         0.568648    0.733629             -0.820719        -0.544721   \n2         0.808997    1.215533             -0.498407         2.135968   \n3         2.491446    1.466525             -0.981875         1.032155   \n4         0.808997    0.663351              0.226796         0.401404   \n..             ...         ...                   ...              ...   \n173      -0.985614   -1.424900              1.274310        -0.930179   \n174      -0.793334   -1.284344              0.549108        -0.316950   \n175      -1.129824   -1.344582              0.549108        -0.422075   \n176      -1.033684   -1.354622              1.354888        -0.229346   \n177      -0.392751   -1.274305              1.596623        -0.422075   \n\n     color_intensity       hue  od280/od315_of_diluted_wines   proline  \\\n0           0.251717  0.362177                      1.847920  1.013009   \n1          -0.293321  0.406051                      1.113449  0.965242   \n2           0.269020  0.318304                      0.788587  1.395148   \n3           1.186068 -0.427544                      1.184071  2.334574   \n4          -0.319276  0.362177                      0.449601 -0.037874   \n..               ...       ...                           ...       ...   \n173         1.142811 -1.392758                     -1.231206 -0.021952   \n174         0.969783 -1.129518                     -1.485445  0.009893   \n175         2.224236 -1.612125                     -1.485445  0.280575   \n176         1.834923 -1.568252                     -1.400699  0.296498   \n177         1.791666 -1.524378                     -1.428948 -0.595160   \n\n     Prediction  \n0             1  \n1             1  \n2             1  \n3             1  \n4             1  \n..          ...  \n173           0  \n174           0  \n175           0  \n176           0  \n177           0  \n\n[178 rows x 14 columns]",
      "text/html": "<div>\n<style scoped>\n    .dataframe tbody tr th:only-of-type {\n        vertical-align: middle;\n    }\n\n    .dataframe tbody tr th {\n        vertical-align: top;\n    }\n\n    .dataframe thead th {\n        text-align: right;\n    }\n</style>\n<table border=\"1\" class=\"dataframe\">\n  <thead>\n    <tr style=\"text-align: right;\">\n      <th></th>\n      <th>alcohol</th>\n      <th>malic_acid</th>\n      <th>ash</th>\n      <th>alcalinity_of_ash</th>\n      <th>magnesium</th>\n      <th>total_phenols</th>\n      <th>flavanoids</th>\n      <th>nonflavanoid_phenols</th>\n      <th>proanthocyanins</th>\n      <th>color_intensity</th>\n      <th>hue</th>\n      <th>od280/od315_of_diluted_wines</th>\n      <th>proline</th>\n      <th>Prediction</th>\n    </tr>\n  </thead>\n  <tbody>\n    <tr>\n      <th>0</th>\n      <td>1.518613</td>\n      <td>-0.562250</td>\n      <td>0.232053</td>\n      <td>-1.169593</td>\n      <td>1.913905</td>\n      <td>0.808997</td>\n      <td>1.034819</td>\n      <td>-0.659563</td>\n      <td>1.224884</td>\n      <td>0.251717</td>\n      <td>0.362177</td>\n      <td>1.847920</td>\n      <td>1.013009</td>\n      <td>1</td>\n    </tr>\n    <tr>\n      <th>1</th>\n      <td>0.246290</td>\n      <td>-0.499413</td>\n      <td>-0.827996</td>\n      <td>-2.490847</td>\n      <td>0.018145</td>\n      <td>0.568648</td>\n      <td>0.733629</td>\n      <td>-0.820719</td>\n      <td>-0.544721</td>\n      <td>-0.293321</td>\n      <td>0.406051</td>\n      <td>1.113449</td>\n      <td>0.965242</td>\n      <td>1</td>\n    </tr>\n    <tr>\n      <th>2</th>\n      <td>0.196879</td>\n      <td>0.021231</td>\n      <td>1.109334</td>\n      <td>-0.268738</td>\n      <td>0.088358</td>\n      <td>0.808997</td>\n      <td>1.215533</td>\n      <td>-0.498407</td>\n      <td>2.135968</td>\n      <td>0.269020</td>\n      <td>0.318304</td>\n      <td>0.788587</td>\n      <td>1.395148</td>\n      <td>1</td>\n    </tr>\n    <tr>\n      <th>3</th>\n      <td>1.691550</td>\n      <td>-0.346811</td>\n      <td>0.487926</td>\n      <td>-0.809251</td>\n      <td>0.930918</td>\n      <td>2.491446</td>\n      <td>1.466525</td>\n      <td>-0.981875</td>\n      <td>1.032155</td>\n      <td>1.186068</td>\n      <td>-0.427544</td>\n      <td>1.184071</td>\n      <td>2.334574</td>\n      <td>1</td>\n    </tr>\n    <tr>\n      <th>4</th>\n      <td>0.295700</td>\n      <td>0.227694</td>\n      <td>1.840403</td>\n      <td>0.451946</td>\n      <td>1.281985</td>\n      <td>0.808997</td>\n      <td>0.663351</td>\n      <td>0.226796</td>\n      <td>0.401404</td>\n      <td>-0.319276</td>\n      <td>0.362177</td>\n      <td>0.449601</td>\n      <td>-0.037874</td>\n      <td>1</td>\n    </tr>\n    <tr>\n      <th>...</th>\n      <td>...</td>\n      <td>...</td>\n      <td>...</td>\n      <td>...</td>\n      <td>...</td>\n      <td>...</td>\n      <td>...</td>\n      <td>...</td>\n      <td>...</td>\n      <td>...</td>\n      <td>...</td>\n      <td>...</td>\n      <td>...</td>\n      <td>...</td>\n    </tr>\n    <tr>\n      <th>173</th>\n      <td>0.876275</td>\n      <td>2.974543</td>\n      <td>0.305159</td>\n      <td>0.301803</td>\n      <td>-0.332922</td>\n      <td>-0.985614</td>\n      <td>-1.424900</td>\n      <td>1.274310</td>\n      <td>-0.930179</td>\n      <td>1.142811</td>\n      <td>-1.392758</td>\n      <td>-1.231206</td>\n      <td>-0.021952</td>\n      <td>0</td>\n    </tr>\n    <tr>\n      <th>174</th>\n      <td>0.493343</td>\n      <td>1.412609</td>\n      <td>0.414820</td>\n      <td>1.052516</td>\n      <td>0.158572</td>\n      <td>-0.793334</td>\n      <td>-1.284344</td>\n      <td>0.549108</td>\n      <td>-0.316950</td>\n      <td>0.969783</td>\n      <td>-1.129518</td>\n      <td>-1.485445</td>\n      <td>0.009893</td>\n      <td>0</td>\n    </tr>\n    <tr>\n      <th>175</th>\n      <td>0.332758</td>\n      <td>1.744744</td>\n      <td>-0.389355</td>\n      <td>0.151661</td>\n      <td>1.422412</td>\n      <td>-1.129824</td>\n      <td>-1.344582</td>\n      <td>0.549108</td>\n      <td>-0.422075</td>\n      <td>2.224236</td>\n      <td>-1.612125</td>\n      <td>-1.485445</td>\n      <td>0.280575</td>\n      <td>0</td>\n    </tr>\n    <tr>\n      <th>176</th>\n      <td>0.209232</td>\n      <td>0.227694</td>\n      <td>0.012732</td>\n      <td>0.151661</td>\n      <td>1.422412</td>\n      <td>-1.033684</td>\n      <td>-1.354622</td>\n      <td>1.354888</td>\n      <td>-0.229346</td>\n      <td>1.834923</td>\n      <td>-1.568252</td>\n      <td>-1.400699</td>\n      <td>0.296498</td>\n      <td>0</td>\n    </tr>\n    <tr>\n      <th>177</th>\n      <td>1.395086</td>\n      <td>1.583165</td>\n      <td>1.365208</td>\n      <td>1.502943</td>\n      <td>-0.262708</td>\n      <td>-0.392751</td>\n      <td>-1.274305</td>\n      <td>1.596623</td>\n      <td>-0.422075</td>\n      <td>1.791666</td>\n      <td>-1.524378</td>\n      <td>-1.428948</td>\n      <td>-0.595160</td>\n      <td>0</td>\n    </tr>\n  </tbody>\n</table>\n<p>178 rows × 14 columns</p>\n</div>"
     },
     "metadata": {}
    }
   ]
  },
  {
   "cell_type": "code",
   "metadata": {
    "tags": [],
    "cell_id": "00007-255fab81-ef7a-4b90-bbdf-9f2b19d3ec3c",
    "deepnote_to_be_reexecuted": false,
    "source_hash": "88965d15",
    "execution_start": 1627098704745,
    "execution_millis": 334,
    "deepnote_cell_type": "code"
   },
   "source": "plt.scatter(Z['alcohol'], Z['proline'], c= Z['Prediction'], s=30)\nplt.xlabel('alcohol', fontsize=10)\nplt.ylabel('proline', fontsize=10)",
   "execution_count": null,
   "outputs": [
    {
     "output_type": "execute_result",
     "execution_count": 41,
     "data": {
      "text/plain": "Text(0, 0.5, 'proline')"
     },
     "metadata": {}
    },
    {
     "data": {
      "text/plain": "<Figure size 432x288 with 1 Axes>",
      "image/png": "[encoded data removed]"
     },
     "metadata": {
      "needs_background": "light",
      "image/png": {
       "width": 384,
       "height": 262
      }
     },
     "output_type": "display_data"
    }
   ]
  },
  {
   "cell_type": "code",
   "metadata": {
    "tags": [],
    "cell_id": "00008-75885377-87f2-4e40-a9fb-ef3ce6a536c6",
    "deepnote_cell_type": "code"
   },
   "source": "",
   "execution_count": null,
   "outputs": []
  },
  {
   "cell_type": "markdown",
   "source": "<a style='text-decoration:none;line-height:16px;display:flex;color:#5B5B62;padding:10px;justify-content:end;' href='https://deepnote.com?utm_source=created-in-deepnote-cell&projectId=40931ed2-7739-4adb-9eb8-1b9a5da6dfc3' target=\"_blank\">\n<img alt='Created in deepnote.com' style='display:inline;max-height:16px;margin:0px;margin-right:7.5px;' src='data:image/svg+xml;base64,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' > </img>\nCreated in <span style='font-weight:600;margin-left:4px;'>Deepnote</span></a>",
   "metadata": {
    "tags": [],
    "created_in_deepnote_cell": true,
    "deepnote_cell_type": "markdown"
   }
  }
 ],
 "nbformat": 4,
 "nbformat_minor": 2,
 "metadata": {
  "orig_nbformat": 2,
  "deepnote": {
   "is_reactive": false
  },
  "deepnote_notebook_id": "2212a4cf-7335-4894-8a2e-f7324874e93d",
  "deepnote_execution_queue": []
 }
}