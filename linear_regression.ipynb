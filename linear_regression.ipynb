{
 "cells": [
  {
   "cell_type": "code",
   "metadata": {
    "tags": [],
    "cell_id": "00000-e7301a87-92e1-44e9-9a9f-d93a5db3657e",
    "deepnote_to_be_reexecuted": false,
    "source_hash": "ee7c8639",
    "execution_start": 1626917760320,
    "execution_millis": 916,
    "deepnote_cell_type": "code"
   },
   "source": "import pandas as pd\nimport matplotlib.pyplot as plt\nfrom sklearn.model_selection import train_test_split\nfrom sklearn.linear_model import LinearRegression",
   "execution_count": null,
   "outputs": []
  },
  {
   "cell_type": "code",
   "metadata": {
    "tags": [],
    "cell_id": "00001-cf60b34e-58d0-455b-babb-1049dff1ffff",
    "deepnote_to_be_reexecuted": false,
    "source_hash": "ab3948b4",
    "execution_start": 1626917821795,
    "execution_millis": 9,
    "deepnote_cell_type": "code"
   },
   "source": "dataset = pd.read_csv('salarios.csv')",
   "execution_count": null,
   "outputs": []
  },
  {
   "cell_type": "code",
   "metadata": {
    "tags": [],
    "cell_id": "00002-ab22b0a9-3e6f-4ba2-83e9-3c60c57a6a90",
    "deepnote_to_be_reexecuted": false,
    "source_hash": "59470e72",
    "execution_start": 1626917836302,
    "execution_millis": 20,
    "deepnote_cell_type": "code"
   },
   "source": "dataset.head()",
   "execution_count": null,
   "outputs": [
    {
     "output_type": "execute_result",
     "execution_count": 3,
     "data": {
      "application/vnd.deepnote.dataframe.v2+json": {
       "row_count": 5,
       "column_count": 2,
       "columns": [
        {
         "name": "Aexperiencia",
         "dtype": "float64",
         "stats": {
          "unique_count": 5,
          "nan_count": 0,
          "min": "1.0",
          "max": "10.0",
          "histogram": [
           {
            "bin_start": 1,
            "bin_end": 1.9,
            "count": 1
           },
           {
            "bin_start": 1.9,
            "bin_end": 2.8,
            "count": 1
           },
           {
            "bin_start": 2.8,
            "bin_end": 3.7,
            "count": 0
           },
           {
            "bin_start": 3.7,
            "bin_end": 4.6,
            "count": 0
           },
           {
            "bin_start": 4.6,
            "bin_end": 5.5,
            "count": 1
           },
           {
            "bin_start": 5.5,
            "bin_end": 6.4,
            "count": 0
           },
           {
            "bin_start": 6.4,
            "bin_end": 7.3,
            "count": 0
           },
           {
            "bin_start": 7.3,
            "bin_end": 8.2,
            "count": 1
           },
           {
            "bin_start": 8.2,
            "bin_end": 9.1,
            "count": 0
           },
           {
            "bin_start": 9.1,
            "bin_end": 10,
            "count": 1
           }
          ]
         }
        },
        {
         "name": "Salario",
         "dtype": "int64",
         "stats": {
          "unique_count": 5,
          "nan_count": 0,
          "min": "15000",
          "max": "42500",
          "histogram": [
           {
            "bin_start": 15000,
            "bin_end": 17750,
            "count": 1
           },
           {
            "bin_start": 17750,
            "bin_end": 20500,
            "count": 1
           },
           {
            "bin_start": 20500,
            "bin_end": 23250,
            "count": 0
           },
           {
            "bin_start": 23250,
            "bin_end": 26000,
            "count": 0
           },
           {
            "bin_start": 26000,
            "bin_end": 28750,
            "count": 0
           },
           {
            "bin_start": 28750,
            "bin_end": 31500,
            "count": 0
           },
           {
            "bin_start": 31500,
            "bin_end": 34250,
            "count": 0
           },
           {
            "bin_start": 34250,
            "bin_end": 37000,
            "count": 2
           },
           {
            "bin_start": 37000,
            "bin_end": 39750,
            "count": 0
           },
           {
            "bin_start": 39750,
            "bin_end": 42500,
            "count": 1
           }
          ]
         }
        },
        {
         "name": "_deepnote_index_column",
         "dtype": "int64"
        }
       ],
       "rows_top": [
        {
         "Aexperiencia": 10,
         "Salario": 42500,
         "_deepnote_index_column": 0
        },
        {
         "Aexperiencia": 8,
         "Salario": 36302,
         "_deepnote_index_column": 1
        },
        {
         "Aexperiencia": 5.4,
         "Salario": 35000,
         "_deepnote_index_column": 2
        },
        {
         "Aexperiencia": 2.5,
         "Salario": 18103,
         "_deepnote_index_column": 3
        },
        {
         "Aexperiencia": 1,
         "Salario": 15000,
         "_deepnote_index_column": 4
        }
       ],
       "rows_bottom": null
      },
      "text/plain": "   Aexperiencia  Salario\n0          10.0    42500\n1           8.0    36302\n2           5.4    35000\n3           2.5    18103\n4           1.0    15000",
      "text/html": "<div>\n<style scoped>\n    .dataframe tbody tr th:only-of-type {\n        vertical-align: middle;\n    }\n\n    .dataframe tbody tr th {\n        vertical-align: top;\n    }\n\n    .dataframe thead th {\n        text-align: right;\n    }\n</style>\n<table border=\"1\" class=\"dataframe\">\n  <thead>\n    <tr style=\"text-align: right;\">\n      <th></th>\n      <th>Aexperiencia</th>\n      <th>Salario</th>\n    </tr>\n  </thead>\n  <tbody>\n    <tr>\n      <th>0</th>\n      <td>10.0</td>\n      <td>42500</td>\n    </tr>\n    <tr>\n      <th>1</th>\n      <td>8.0</td>\n      <td>36302</td>\n    </tr>\n    <tr>\n      <th>2</th>\n      <td>5.4</td>\n      <td>35000</td>\n    </tr>\n    <tr>\n      <th>3</th>\n      <td>2.5</td>\n      <td>18103</td>\n    </tr>\n    <tr>\n      <th>4</th>\n      <td>1.0</td>\n      <td>15000</td>\n    </tr>\n  </tbody>\n</table>\n</div>"
     },
     "metadata": {}
    }
   ]
  },
  {
   "cell_type": "code",
   "metadata": {
    "tags": [],
    "cell_id": "00003-6b01d6ef-4630-4c91-a62f-244582946b61",
    "deepnote_to_be_reexecuted": false,
    "source_hash": "2f6421e3",
    "execution_start": 1626918047799,
    "execution_millis": 1,
    "deepnote_cell_type": "code"
   },
   "source": "x = dataset.iloc[:,:-1].values\ny = dataset.iloc[:,1].values\n",
   "execution_count": null,
   "outputs": []
  },
  {
   "cell_type": "code",
   "metadata": {
    "tags": [],
    "cell_id": "00004-792756f2-8094-452c-a675-4faa1aa906a0",
    "deepnote_to_be_reexecuted": false,
    "source_hash": "58e9e9c0",
    "execution_start": 1626918224487,
    "execution_millis": 3,
    "deepnote_cell_type": "code"
   },
   "source": "X_train, X_test, Y_train, Y_test = train_test_split(x,y,test_size=0.2, random_state=0)",
   "execution_count": null,
   "outputs": []
  },
  {
   "cell_type": "code",
   "metadata": {
    "tags": [],
    "cell_id": "00005-d27ab482-59e7-46c7-8a90-a35cf9112e09",
    "deepnote_to_be_reexecuted": false,
    "source_hash": "e28f1959",
    "execution_start": 1626918754416,
    "execution_millis": 9,
    "deepnote_cell_type": "code"
   },
   "source": "regressor = LinearRegression()\nregressor.fit(X_train, Y_train)",
   "execution_count": null,
   "outputs": [
    {
     "output_type": "execute_result",
     "execution_count": 16,
     "data": {
      "text/plain": "LinearRegression()"
     },
     "metadata": {}
    }
   ]
  },
  {
   "cell_type": "code",
   "metadata": {
    "tags": [],
    "cell_id": "00006-4d0c3fee-a96f-4e3f-aaf8-7241fc4b4e33",
    "deepnote_to_be_reexecuted": false,
    "source_hash": "4f93b0a7",
    "execution_start": 1626918909059,
    "execution_millis": 217,
    "deepnote_cell_type": "code"
   },
   "source": "viz_train = plt\nviz_train.scatter(X_train, Y_train, color='blue')\nviz_train.plot(X_train,regressor.predict(X_train), color='black')\nviz_train.title('Salario vc Experiencia')\nviz_train.xlabel('Experiencia')\nviz_train.ylabel('Salario')\n",
   "execution_count": null,
   "outputs": [
    {
     "output_type": "execute_result",
     "execution_count": 17,
     "data": {
      "text/plain": "Text(0, 0.5, 'Salario')"
     },
     "metadata": {}
    },
    {
     "data": {
      "text/plain": "<Figure size 432x288 with 1 Axes>",
      "image/png": "[encoded data removed]"
     },
     "metadata": {
      "needs_background": "light",
      "image/png": {
       "width": 401,
       "height": 278
      }
     },
     "output_type": "display_data"
    }
   ]
  },
  {
   "cell_type": "code",
   "metadata": {
    "tags": [],
    "cell_id": "00007-545b5bdc-05f8-4f41-913f-c5484fda403a",
    "deepnote_to_be_reexecuted": false,
    "source_hash": "51c36e6f",
    "execution_start": 1626919011497,
    "execution_millis": 200,
    "deepnote_cell_type": "code"
   },
   "source": "viz_train = plt\nviz_train.scatter(X_test, Y_test, color='red')\nviz_train.plot(X_train,regressor.predict(X_train), color='black')\nviz_train.title('Salario vc Experiencia')\nviz_train.xlabel('Experiencia')\nviz_train.ylabel('Salario')",
   "execution_count": null,
   "outputs": [
    {
     "output_type": "execute_result",
     "execution_count": 18,
     "data": {
      "text/plain": "Text(0, 0.5, 'Salario')"
     },
     "metadata": {}
    },
    {
     "data": {
      "text/plain": "<Figure size 432x288 with 1 Axes>",
      "image/png": "[encoded data removed]"
     },
     "metadata": {
      "needs_background": "light",
      "image/png": {
       "width": 401,
       "height": 278
      }
     },
     "output_type": "display_data"
    }
   ]
  },
  {
   "cell_type": "code",
   "metadata": {
    "tags": [],
    "cell_id": "00008-2a31ec09-61fb-4f31-91a5-6ad4087f4ba1",
    "deepnote_to_be_reexecuted": false,
    "source_hash": "ecfa2d",
    "execution_start": 1626919091170,
    "execution_millis": 10,
    "deepnote_cell_type": "code"
   },
   "source": "regressor.score(X_test, Y_test)",
   "execution_count": null,
   "outputs": [
    {
     "output_type": "execute_result",
     "execution_count": 19,
     "data": {
      "text/plain": "0.7862437374732997"
     },
     "metadata": {}
    }
   ]
  },
  {
   "cell_type": "code",
   "metadata": {
    "tags": [],
    "cell_id": "00009-d5602870-f278-4ce3-a20c-6ddd87dcd045",
    "deepnote_cell_type": "code"
   },
   "source": "",
   "execution_count": null,
   "outputs": []
  },
  {
   "cell_type": "markdown",
   "source": "<a style='text-decoration:none;line-height:16px;display:flex;color:#5B5B62;padding:10px;justify-content:end;' href='https://deepnote.com?utm_source=created-in-deepnote-cell&projectId=40931ed2-7739-4adb-9eb8-1b9a5da6dfc3' target=\"_blank\">\n<img alt='Created in deepnote.com' style='display:inline;max-height:16px;margin:0px;margin-right:7.5px;' src='data:image/svg+xml;base64,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' > </img>\nCreated in <span style='font-weight:600;margin-left:4px;'>Deepnote</span></a>",
   "metadata": {
    "tags": [],
    "created_in_deepnote_cell": true,
    "deepnote_cell_type": "markdown"
   }
  }
 ],
 "nbformat": 4,
 "nbformat_minor": 2,
 "metadata": {
  "orig_nbformat": 2,
  "deepnote": {
   "is_reactive": false
  },
  "deepnote_notebook_id": "ca5ba1bc-d919-484f-8d1c-9d5dcf1bb9ab",
  "deepnote_execution_queue": []
 }
}